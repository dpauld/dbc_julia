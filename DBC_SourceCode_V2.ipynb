{
 "cells": [
  {
   "cell_type": "code",
   "execution_count": 300,
   "metadata": {},
   "outputs": [],
   "source": [
    "import Pkg;\n",
    "#Pkg.add(\"CSV\")\n",
    "#Pkg.add(\"Random\")\n",
    "#Pkg.add(\"PyPlot\")\n",
    "#Pkg.add(\"MLLabelUtils\")\n",
    "#Pkg.add(\"MLDataUtils\")\n",
    "#Pkg.add(\"DecisionTree\")\n",
    "#Pkg.add(\"ScikitLearn\")\n",
    "#Pkg.add(\"XGBoost\")\n",
    "#Pkg.add(\"PyCall\")\n",
    "#Pkg.add(\"MLBase\")\n",
    "#Pkg.add(\"LearnBase\")"
   ]
  },
  {
   "cell_type": "markdown",
   "metadata": {},
   "source": [
    "# Diagnosing Breast Cancer using Julia"
   ]
  },
  {
   "cell_type": "markdown",
   "metadata": {},
   "source": [
    "##### Loading necessary packages and reading the [dataset](https://www.kaggle.com/uciml/breast-cancer-wisconsin-data)."
   ]
  },
  {
   "cell_type": "code",
   "execution_count": 301,
   "metadata": {},
   "outputs": [],
   "source": [
    "using CSV\n",
    "using DataFrames\n",
    "df = CSV.read(\"wdbc.csv\");"
   ]
  },
  {
   "cell_type": "markdown",
   "metadata": {},
   "source": [
    "##### Setting Random Seed to produce same output everytime, it helps in debugging"
   ]
  },
  {
   "cell_type": "code",
   "execution_count": 302,
   "metadata": {},
   "outputs": [
    {
     "data": {
      "text/plain": [
       "MersenneTwister(UInt32[0x00000064], Random.DSFMT.DSFMT_state(Int32[-2036630343, 1072818225, 1299231502, 1073154435, 1563612565, 1073206618, 176198161, 1073683625, 381415896, 1073699088  …  163992627, 1073241259, 385818456, 1072878963, 399273729, 595433664, 390891112, 1704156657, 382, 0]), [0.0, 0.0, 0.0, 0.0, 0.0, 0.0, 0.0, 0.0, 0.0, 0.0  …  0.0, 0.0, 0.0, 0.0, 0.0, 0.0, 0.0, 0.0, 0.0, 0.0], UInt128[0x00000000000000000000000000000000, 0x00000000000000000000000000000000, 0x00000000000000000000000000000000, 0x00000000000000000000000000000000, 0x00000000000000000000000000000000, 0x00000000000000000000000000000000, 0x00000000000000000000000000000000, 0x00000000000000000000000000000000, 0x00000000000000000000000000000000, 0x00000000000000000000000000000000  …  0x00000000000000000000000000000000, 0x00000000000000000000000000000000, 0x00000000000000000000000000000000, 0x00000000000000000000000000000000, 0x00000000000000000000000000000000, 0x00000000000000000000000000000000, 0x00000000000000000000000000000000, 0x00000000000000000000000000000000, 0x00000000000000000000000000000000, 0x00000000000000000000000000000000], 1002, 0)"
      ]
     },
     "execution_count": 302,
     "metadata": {},
     "output_type": "execute_result"
    }
   ],
   "source": [
    "RANDOM_STATE = 100\n",
    "using Random\n",
    "Random.seed!(RANDOM_STATE)"
   ]
  },
  {
   "cell_type": "markdown",
   "metadata": {},
   "source": [
    "##### First 5 samples of the dataset"
   ]
  },
  {
   "cell_type": "code",
   "execution_count": 303,
   "metadata": {},
   "outputs": [
    {
     "data": {
      "text/html": [
       "<table class=\"data-frame\"><thead><tr><th></th><th>id</th><th>diagnosis</th><th>radius_mean</th><th>texture_mean</th><th>perimeter_mean</th><th>area_mean</th><th>smoothness_mean</th></tr><tr><th></th><th>Int64</th><th>String</th><th>Float64</th><th>Float64</th><th>Float64</th><th>Float64</th><th>Float64</th></tr></thead><tbody><p>5 rows × 32 columns (omitted printing of 25 columns)</p><tr><th>1</th><td>842302</td><td>M</td><td>17.99</td><td>10.38</td><td>122.8</td><td>1001.0</td><td>0.1184</td></tr><tr><th>2</th><td>842517</td><td>M</td><td>20.57</td><td>17.77</td><td>132.9</td><td>1326.0</td><td>0.08474</td></tr><tr><th>3</th><td>84300903</td><td>M</td><td>19.69</td><td>21.25</td><td>130.0</td><td>1203.0</td><td>0.1096</td></tr><tr><th>4</th><td>84348301</td><td>M</td><td>11.42</td><td>20.38</td><td>77.58</td><td>386.1</td><td>0.1425</td></tr><tr><th>5</th><td>84358402</td><td>M</td><td>20.29</td><td>14.34</td><td>135.1</td><td>1297.0</td><td>0.1003</td></tr></tbody></table>"
      ],
      "text/latex": [
       "\\begin{tabular}{r|cccccccc}\n",
       "\t& id & diagnosis & radius\\_mean & texture\\_mean & perimeter\\_mean & area\\_mean & smoothness\\_mean & \\\\\n",
       "\t\\hline\n",
       "\t& Int64 & String & Float64 & Float64 & Float64 & Float64 & Float64 & \\\\\n",
       "\t\\hline\n",
       "\t1 & 842302 & M & 17.99 & 10.38 & 122.8 & 1001.0 & 0.1184 & $\\dots$ \\\\\n",
       "\t2 & 842517 & M & 20.57 & 17.77 & 132.9 & 1326.0 & 0.08474 & $\\dots$ \\\\\n",
       "\t3 & 84300903 & M & 19.69 & 21.25 & 130.0 & 1203.0 & 0.1096 & $\\dots$ \\\\\n",
       "\t4 & 84348301 & M & 11.42 & 20.38 & 77.58 & 386.1 & 0.1425 & $\\dots$ \\\\\n",
       "\t5 & 84358402 & M & 20.29 & 14.34 & 135.1 & 1297.0 & 0.1003 & $\\dots$ \\\\\n",
       "\\end{tabular}\n"
      ],
      "text/plain": [
       "5×32 DataFrame. Omitted printing of 27 columns\n",
       "│ Row │ id       │ diagnosis │ radius_mean │ texture_mean │ perimeter_mean │\n",
       "│     │ \u001b[90mInt64\u001b[39m    │ \u001b[90mString\u001b[39m    │ \u001b[90mFloat64\u001b[39m     │ \u001b[90mFloat64\u001b[39m      │ \u001b[90mFloat64\u001b[39m        │\n",
       "├─────┼──────────┼───────────┼─────────────┼──────────────┼────────────────┤\n",
       "│ 1   │ 842302   │ M         │ 17.99       │ 10.38        │ 122.8          │\n",
       "│ 2   │ 842517   │ M         │ 20.57       │ 17.77        │ 132.9          │\n",
       "│ 3   │ 84300903 │ M         │ 19.69       │ 21.25        │ 130.0          │\n",
       "│ 4   │ 84348301 │ M         │ 11.42       │ 20.38        │ 77.58          │\n",
       "│ 5   │ 84358402 │ M         │ 20.29       │ 14.34        │ 135.1          │"
      ]
     },
     "execution_count": 303,
     "metadata": {},
     "output_type": "execute_result"
    }
   ],
   "source": [
    "first(df,5)"
   ]
  },
  {
   "cell_type": "markdown",
   "metadata": {},
   "source": [
    "#####  Printing the number of instances and number of columns"
   ]
  },
  {
   "cell_type": "code",
   "execution_count": 304,
   "metadata": {},
   "outputs": [
    {
     "name": "stdout",
     "output_type": "stream",
     "text": [
      "Number of Instances: 569\n",
      "Number of Columns: 32\n"
     ]
    }
   ],
   "source": [
    "# size function returns the number of row and columns of the dataset\n",
    "row, col = size(df)\n",
    "println(\"Number of Instances: \", row)\n",
    "println(\"Number of Columns: \", col)"
   ]
  },
  {
   "cell_type": "markdown",
   "metadata": {},
   "source": [
    "##### Headers / Column names of the dataset"
   ]
  },
  {
   "cell_type": "code",
   "execution_count": 305,
   "metadata": {},
   "outputs": [
    {
     "name": "stdout",
     "output_type": "stream",
     "text": [
      "Symbol[:id, :diagnosis, :radius_mean, :texture_mean, :perimeter_mean, :area_mean, :smoothness_mean, :compactness_mean, :concavity_mean, Symbol(\"concave points_mean\"), :symmetry_mean, :fractal_dimension_mean, :radius_se, :texture_se, :perimeter_se, :area_se, :smoothness_se, :compactness_se, :concavity_se, Symbol(\"concave points_se\"), :symmetry_se, :fractal_dimension_se, :radius_worst, :texture_worst, :perimeter_worst, :area_worst, :smoothness_worst, :compactness_worst, :concavity_worst, Symbol(\"concave points_worst\"), :symmetry_worst, :fractal_dimension_worst]\n"
     ]
    }
   ],
   "source": [
    "println(names(df))"
   ]
  },
  {
   "cell_type": "markdown",
   "metadata": {},
   "source": []
  },
  {
   "cell_type": "markdown",
   "metadata": {},
   "source": [
    "##### Description of dataset"
   ]
  },
  {
   "cell_type": "code",
   "execution_count": 306,
   "metadata": {},
   "outputs": [
    {
     "name": "stdout",
     "output_type": "stream",
     "text": [
      "32×8 DataFrame\n",
      "│ Row │ variable                │ mean       │ min       │ median   │ max       │ nunique │ nmissing │ eltype   │\n",
      "│     │ \u001b[90mSymbol\u001b[39m                  │ \u001b[90mUnion…\u001b[39m     │ \u001b[90mAny\u001b[39m       │ \u001b[90mUnion…\u001b[39m   │ \u001b[90mAny\u001b[39m       │ \u001b[90mUnion…\u001b[39m  │ \u001b[90mNothing\u001b[39m  │ \u001b[90mDataType\u001b[39m │\n",
      "├─────┼─────────────────────────┼────────────┼───────────┼──────────┼───────────┼─────────┼──────────┼──────────┤\n",
      "│ 1   │ id                      │ 3.03718e7  │ 8670      │ 906024.0 │ 911320502 │         │          │ Int64    │\n",
      "│ 2   │ diagnosis               │            │ B         │          │ M         │ 2       │          │ String   │\n",
      "│ 3   │ radius_mean             │ 14.1273    │ 6.981     │ 13.37    │ 28.11     │         │          │ Float64  │\n",
      "│ 4   │ texture_mean            │ 19.2896    │ 9.71      │ 18.84    │ 39.28     │         │          │ Float64  │\n",
      "│ 5   │ perimeter_mean          │ 91.969     │ 43.79     │ 86.24    │ 188.5     │         │          │ Float64  │\n",
      "│ 6   │ area_mean               │ 654.889    │ 143.5     │ 551.1    │ 2501.0    │         │          │ Float64  │\n",
      "│ 7   │ smoothness_mean         │ 0.0963603  │ 0.05263   │ 0.09587  │ 0.1634    │         │          │ Float64  │\n",
      "│ 8   │ compactness_mean        │ 0.104341   │ 0.01938   │ 0.09263  │ 0.3454    │         │          │ Float64  │\n",
      "│ 9   │ concavity_mean          │ 0.0887993  │ 0.0       │ 0.06154  │ 0.4268    │         │          │ Float64  │\n",
      "│ 10  │ concave points_mean     │ 0.0489191  │ 0.0       │ 0.0335   │ 0.2012    │         │          │ Float64  │\n",
      "│ 11  │ symmetry_mean           │ 0.181162   │ 0.106     │ 0.1792   │ 0.304     │         │          │ Float64  │\n",
      "│ 12  │ fractal_dimension_mean  │ 0.0627976  │ 0.04996   │ 0.06154  │ 0.09744   │         │          │ Float64  │\n",
      "│ 13  │ radius_se               │ 0.405172   │ 0.1115    │ 0.3242   │ 2.873     │         │          │ Float64  │\n",
      "│ 14  │ texture_se              │ 1.21685    │ 0.3602    │ 1.108    │ 4.885     │         │          │ Float64  │\n",
      "│ 15  │ perimeter_se            │ 2.86606    │ 0.757     │ 2.287    │ 21.98     │         │          │ Float64  │\n",
      "│ 16  │ area_se                 │ 40.3371    │ 6.802     │ 24.53    │ 542.2     │         │          │ Float64  │\n",
      "│ 17  │ smoothness_se           │ 0.00704098 │ 0.001713  │ 0.00638  │ 0.03113   │         │          │ Float64  │\n",
      "│ 18  │ compactness_se          │ 0.0254781  │ 0.002252  │ 0.02045  │ 0.1354    │         │          │ Float64  │\n",
      "│ 19  │ concavity_se            │ 0.0318937  │ 0.0       │ 0.02589  │ 0.396     │         │          │ Float64  │\n",
      "│ 20  │ concave points_se       │ 0.0117961  │ 0.0       │ 0.01093  │ 0.05279   │         │          │ Float64  │\n",
      "│ 21  │ symmetry_se             │ 0.0205423  │ 0.007882  │ 0.01873  │ 0.07895   │         │          │ Float64  │\n",
      "│ 22  │ fractal_dimension_se    │ 0.0037949  │ 0.0008948 │ 0.003187 │ 0.02984   │         │          │ Float64  │\n",
      "│ 23  │ radius_worst            │ 16.2692    │ 7.93      │ 14.97    │ 36.04     │         │          │ Float64  │\n",
      "│ 24  │ texture_worst           │ 25.6772    │ 12.02     │ 25.41    │ 49.54     │         │          │ Float64  │\n",
      "│ 25  │ perimeter_worst         │ 107.261    │ 50.41     │ 97.66    │ 251.2     │         │          │ Float64  │\n",
      "│ 26  │ area_worst              │ 880.583    │ 185.2     │ 686.5    │ 4254.0    │         │          │ Float64  │\n",
      "│ 27  │ smoothness_worst        │ 0.132369   │ 0.07117   │ 0.1313   │ 0.2226    │         │          │ Float64  │\n",
      "│ 28  │ compactness_worst       │ 0.254265   │ 0.02729   │ 0.2119   │ 1.058     │         │          │ Float64  │\n",
      "│ 29  │ concavity_worst         │ 0.272188   │ 0.0       │ 0.2267   │ 1.252     │         │          │ Float64  │\n",
      "│ 30  │ concave points_worst    │ 0.114606   │ 0.0       │ 0.09993  │ 0.291     │         │          │ Float64  │\n",
      "│ 31  │ symmetry_worst          │ 0.290076   │ 0.1565    │ 0.2822   │ 0.6638    │         │          │ Float64  │\n",
      "│ 32  │ fractal_dimension_worst │ 0.0839458  │ 0.05504   │ 0.08004  │ 0.2075    │         │          │ Float64  │\n"
     ]
    }
   ],
   "source": [
    "println(describe(df))"
   ]
  },
  {
   "cell_type": "markdown",
   "metadata": {},
   "source": [
    "##### Frequencey of each class"
   ]
  },
  {
   "cell_type": "code",
   "execution_count": 307,
   "metadata": {},
   "outputs": [
    {
     "data": {
      "text/plain": [
       "2-element Named Array{Int64,1}\n",
       "Dim1  │ \n",
       "──────┼────\n",
       "B     │ 357\n",
       "M     │ 212"
      ]
     },
     "execution_count": 307,
     "metadata": {},
     "output_type": "execute_result"
    }
   ],
   "source": [
    "using FreqTables\n",
    "frequency_digonosis = freqtable(df[:diagnosis])"
   ]
  },
  {
   "cell_type": "markdown",
   "metadata": {},
   "source": [
    "##### Histogram of the frequency of each class"
   ]
  },
  {
   "cell_type": "code",
   "execution_count": 308,
   "metadata": {},
   "outputs": [
    {
     "data": {
      "image/png": "[encoded data removed]",
      "text/plain": [
       "Figure(PyObject <Figure size 640x480 with 1 Axes>)"
      ]
     },
     "metadata": {},
     "output_type": "display_data"
    },
    {
     "data": {
      "text/plain": [
       "PyObject Text(24.000000000000007, 0.5, 'Frequency')"
      ]
     },
     "execution_count": 308,
     "metadata": {},
     "output_type": "execute_result"
    }
   ],
   "source": [
    "using PyPlot\n",
    "PyPlot.plt.hist(df[:diagnosis], 2) \n",
    "plt.title(\"Histogram of Diagnosis\")\n",
    "plt.xlabel(\"Malignant(M), Benign(B)\")\n",
    "plt.ylabel(\"Frequency\")"
   ]
  },
  {
   "cell_type": "markdown",
   "metadata": {},
   "source": [
    "## Data Preprocessing"
   ]
  },
  {
   "cell_type": "markdown",
   "metadata": {},
   "source": [
    "##### Converting the categorical feature \"diagnosis\" to integer by doing label encoding"
   ]
  },
  {
   "cell_type": "code",
   "execution_count": 356,
   "metadata": {},
   "outputs": [
    {
     "data": {
      "text/plain": [
       "569-element CSV.Column{String,PooledString}:\n",
       " \"M\"\n",
       " \"M\"\n",
       " \"M\"\n",
       " \"M\"\n",
       " \"M\"\n",
       " \"M\"\n",
       " \"M\"\n",
       " \"M\"\n",
       " \"M\"\n",
       " \"M\"\n",
       " \"M\"\n",
       " \"M\"\n",
       " \"M\"\n",
       " ⋮  \n",
       " \"B\"\n",
       " \"B\"\n",
       " \"B\"\n",
       " \"B\"\n",
       " \"B\"\n",
       " \"M\"\n",
       " \"M\"\n",
       " \"M\"\n",
       " \"M\"\n",
       " \"M\"\n",
       " \"M\"\n",
       " \"B\""
      ]
     },
     "execution_count": 356,
     "metadata": {},
     "output_type": "execute_result"
    }
   ],
   "source": [
    "df[:diagnosis]"
   ]
  },
  {
   "cell_type": "code",
   "execution_count": 354,
   "metadata": {},
   "outputs": [
    {
     "data": {
      "text/plain": [
       "569-element Array{Float64,1}:\n",
       "  1.0\n",
       "  1.0\n",
       "  1.0\n",
       "  1.0\n",
       "  1.0\n",
       "  1.0\n",
       "  1.0\n",
       "  1.0\n",
       "  1.0\n",
       "  1.0\n",
       "  1.0\n",
       "  1.0\n",
       "  1.0\n",
       "  ⋮  \n",
       " -1.0\n",
       " -1.0\n",
       " -1.0\n",
       " -1.0\n",
       " -1.0\n",
       "  1.0\n",
       "  1.0\n",
       "  1.0\n",
       "  1.0\n",
       "  1.0\n",
       "  1.0\n",
       " -1.0"
      ]
     },
     "execution_count": 354,
     "metadata": {},
     "output_type": "execute_result"
    }
   ],
   "source": [
    "y = convertlabel(LabelEnc.MarginBased,df[:diagnosis])"
   ]
  },
  {
   "cell_type": "code",
   "execution_count": 364,
   "metadata": {},
   "outputs": [
    {
     "data": {
      "text/plain": [
       "2-element Named Array{Int64,1}\n",
       "Dim1  │ \n",
       "──────┼────\n",
       "0     │ 357\n",
       "1     │ 212"
      ]
     },
     "execution_count": 364,
     "metadata": {},
     "output_type": "execute_result"
    }
   ],
   "source": [
    "using FreqTables\n",
    "frequency_digonosis = freqtable(newdf[:diagnosis])"
   ]
  },
  {
   "cell_type": "code",
   "execution_count": 357,
   "metadata": {},
   "outputs": [],
   "source": [
    "using MLLabelUtils\n",
    "y = convertlabel(LabelEnc.MarginBased,df[:diagnosis])\n",
    "y = classify.(y, LabelEnc.ZeroOne(Int,1))\n",
    "newdf = copy(df)\n",
    "deletecols!(newdf, :diagnosis)\n",
    "newdf[:diagnosis] = y;"
   ]
  },
  {
   "cell_type": "code",
   "execution_count": 359,
   "metadata": {},
   "outputs": [
    {
     "data": {
      "text/plain": [
       "569-element Array{Int64,1}:\n",
       " 1\n",
       " 1\n",
       " 1\n",
       " 1\n",
       " 1\n",
       " 1\n",
       " 1\n",
       " 1\n",
       " 1\n",
       " 1\n",
       " 1\n",
       " 1\n",
       " 1\n",
       " ⋮\n",
       " 0\n",
       " 0\n",
       " 0\n",
       " 0\n",
       " 0\n",
       " 1\n",
       " 1\n",
       " 1\n",
       " 1\n",
       " 1\n",
       " 1\n",
       " 0"
      ]
     },
     "execution_count": 359,
     "metadata": {},
     "output_type": "execute_result"
    }
   ],
   "source": [
    "y"
   ]
  },
  {
   "cell_type": "code",
   "execution_count": 360,
   "metadata": {},
   "outputs": [],
   "source": [
    "#deletecols!(newdf, :id)"
   ]
  },
  {
   "cell_type": "markdown",
   "metadata": {},
   "source": [
    "##### Dataset after encodning"
   ]
  },
  {
   "cell_type": "code",
   "execution_count": 361,
   "metadata": {},
   "outputs": [
    {
     "data": {
      "text/html": [
       "<table class=\"data-frame\"><thead><tr><th></th><th>id</th><th>radius_mean</th><th>texture_mean</th><th>perimeter_mean</th><th>area_mean</th><th>smoothness_mean</th></tr><tr><th></th><th>Int64</th><th>Float64</th><th>Float64</th><th>Float64</th><th>Float64</th><th>Float64</th></tr></thead><tbody><p>5 rows × 32 columns (omitted printing of 26 columns)</p><tr><th>1</th><td>842302</td><td>17.99</td><td>10.38</td><td>122.8</td><td>1001.0</td><td>0.1184</td></tr><tr><th>2</th><td>842517</td><td>20.57</td><td>17.77</td><td>132.9</td><td>1326.0</td><td>0.08474</td></tr><tr><th>3</th><td>84300903</td><td>19.69</td><td>21.25</td><td>130.0</td><td>1203.0</td><td>0.1096</td></tr><tr><th>4</th><td>84348301</td><td>11.42</td><td>20.38</td><td>77.58</td><td>386.1</td><td>0.1425</td></tr><tr><th>5</th><td>84358402</td><td>20.29</td><td>14.34</td><td>135.1</td><td>1297.0</td><td>0.1003</td></tr></tbody></table>"
      ],
      "text/latex": [
       "\\begin{tabular}{r|ccccccc}\n",
       "\t& id & radius\\_mean & texture\\_mean & perimeter\\_mean & area\\_mean & smoothness\\_mean & \\\\\n",
       "\t\\hline\n",
       "\t& Int64 & Float64 & Float64 & Float64 & Float64 & Float64 & \\\\\n",
       "\t\\hline\n",
       "\t1 & 842302 & 17.99 & 10.38 & 122.8 & 1001.0 & 0.1184 & $\\dots$ \\\\\n",
       "\t2 & 842517 & 20.57 & 17.77 & 132.9 & 1326.0 & 0.08474 & $\\dots$ \\\\\n",
       "\t3 & 84300903 & 19.69 & 21.25 & 130.0 & 1203.0 & 0.1096 & $\\dots$ \\\\\n",
       "\t4 & 84348301 & 11.42 & 20.38 & 77.58 & 386.1 & 0.1425 & $\\dots$ \\\\\n",
       "\t5 & 84358402 & 20.29 & 14.34 & 135.1 & 1297.0 & 0.1003 & $\\dots$ \\\\\n",
       "\\end{tabular}\n"
      ],
      "text/plain": [
       "5×32 DataFrame. Omitted printing of 27 columns\n",
       "│ Row │ id       │ radius_mean │ texture_mean │ perimeter_mean │ area_mean │\n",
       "│     │ \u001b[90mInt64\u001b[39m    │ \u001b[90mFloat64\u001b[39m     │ \u001b[90mFloat64\u001b[39m      │ \u001b[90mFloat64\u001b[39m        │ \u001b[90mFloat64\u001b[39m   │\n",
       "├─────┼──────────┼─────────────┼──────────────┼────────────────┼───────────┤\n",
       "│ 1   │ 842302   │ 17.99       │ 10.38        │ 122.8          │ 1001.0    │\n",
       "│ 2   │ 842517   │ 20.57       │ 17.77        │ 132.9          │ 1326.0    │\n",
       "│ 3   │ 84300903 │ 19.69       │ 21.25        │ 130.0          │ 1203.0    │\n",
       "│ 4   │ 84348301 │ 11.42       │ 20.38        │ 77.58          │ 386.1     │\n",
       "│ 5   │ 84358402 │ 20.29       │ 14.34        │ 135.1          │ 1297.0    │"
      ]
     },
     "execution_count": 361,
     "metadata": {},
     "output_type": "execute_result"
    }
   ],
   "source": [
    "first(newdf,5)"
   ]
  },
  {
   "cell_type": "markdown",
   "metadata": {},
   "source": [
    "##### Description of Dataset after encodning "
   ]
  },
  {
   "cell_type": "code",
   "execution_count": 362,
   "metadata": {},
   "outputs": [
    {
     "name": "stdout",
     "output_type": "stream",
     "text": [
      "32×8 DataFrame\n",
      "│ Row │ variable                │ mean       │ min       │ median   │ max       │ nunique │ nmissing │ eltype   │\n",
      "│     │ \u001b[90mSymbol\u001b[39m                  │ \u001b[90mFloat64\u001b[39m    │ \u001b[90mReal\u001b[39m      │ \u001b[90mFloat64\u001b[39m  │ \u001b[90mReal\u001b[39m      │ \u001b[90mNothing\u001b[39m │ \u001b[90mNothing\u001b[39m  │ \u001b[90mDataType\u001b[39m │\n",
      "├─────┼─────────────────────────┼────────────┼───────────┼──────────┼───────────┼─────────┼──────────┼──────────┤\n",
      "│ 1   │ id                      │ 3.03718e7  │ 8670      │ 906024.0 │ 911320502 │         │          │ Int64    │\n",
      "│ 2   │ radius_mean             │ 14.1273    │ 6.981     │ 13.37    │ 28.11     │         │          │ Float64  │\n",
      "│ 3   │ texture_mean            │ 19.2896    │ 9.71      │ 18.84    │ 39.28     │         │          │ Float64  │\n",
      "│ 4   │ perimeter_mean          │ 91.969     │ 43.79     │ 86.24    │ 188.5     │         │          │ Float64  │\n",
      "│ 5   │ area_mean               │ 654.889    │ 143.5     │ 551.1    │ 2501.0    │         │          │ Float64  │\n",
      "│ 6   │ smoothness_mean         │ 0.0963603  │ 0.05263   │ 0.09587  │ 0.1634    │         │          │ Float64  │\n",
      "│ 7   │ compactness_mean        │ 0.104341   │ 0.01938   │ 0.09263  │ 0.3454    │         │          │ Float64  │\n",
      "│ 8   │ concavity_mean          │ 0.0887993  │ 0.0       │ 0.06154  │ 0.4268    │         │          │ Float64  │\n",
      "│ 9   │ concave points_mean     │ 0.0489191  │ 0.0       │ 0.0335   │ 0.2012    │         │          │ Float64  │\n",
      "│ 10  │ symmetry_mean           │ 0.181162   │ 0.106     │ 0.1792   │ 0.304     │         │          │ Float64  │\n",
      "│ 11  │ fractal_dimension_mean  │ 0.0627976  │ 0.04996   │ 0.06154  │ 0.09744   │         │          │ Float64  │\n",
      "│ 12  │ radius_se               │ 0.405172   │ 0.1115    │ 0.3242   │ 2.873     │         │          │ Float64  │\n",
      "│ 13  │ texture_se              │ 1.21685    │ 0.3602    │ 1.108    │ 4.885     │         │          │ Float64  │\n",
      "│ 14  │ perimeter_se            │ 2.86606    │ 0.757     │ 2.287    │ 21.98     │         │          │ Float64  │\n",
      "│ 15  │ area_se                 │ 40.3371    │ 6.802     │ 24.53    │ 542.2     │         │          │ Float64  │\n",
      "│ 16  │ smoothness_se           │ 0.00704098 │ 0.001713  │ 0.00638  │ 0.03113   │         │          │ Float64  │\n",
      "│ 17  │ compactness_se          │ 0.0254781  │ 0.002252  │ 0.02045  │ 0.1354    │         │          │ Float64  │\n",
      "│ 18  │ concavity_se            │ 0.0318937  │ 0.0       │ 0.02589  │ 0.396     │         │          │ Float64  │\n",
      "│ 19  │ concave points_se       │ 0.0117961  │ 0.0       │ 0.01093  │ 0.05279   │         │          │ Float64  │\n",
      "│ 20  │ symmetry_se             │ 0.0205423  │ 0.007882  │ 0.01873  │ 0.07895   │         │          │ Float64  │\n",
      "│ 21  │ fractal_dimension_se    │ 0.0037949  │ 0.0008948 │ 0.003187 │ 0.02984   │         │          │ Float64  │\n",
      "│ 22  │ radius_worst            │ 16.2692    │ 7.93      │ 14.97    │ 36.04     │         │          │ Float64  │\n",
      "│ 23  │ texture_worst           │ 25.6772    │ 12.02     │ 25.41    │ 49.54     │         │          │ Float64  │\n",
      "│ 24  │ perimeter_worst         │ 107.261    │ 50.41     │ 97.66    │ 251.2     │         │          │ Float64  │\n",
      "│ 25  │ area_worst              │ 880.583    │ 185.2     │ 686.5    │ 4254.0    │         │          │ Float64  │\n",
      "│ 26  │ smoothness_worst        │ 0.132369   │ 0.07117   │ 0.1313   │ 0.2226    │         │          │ Float64  │\n",
      "│ 27  │ compactness_worst       │ 0.254265   │ 0.02729   │ 0.2119   │ 1.058     │         │          │ Float64  │\n",
      "│ 28  │ concavity_worst         │ 0.272188   │ 0.0       │ 0.2267   │ 1.252     │         │          │ Float64  │\n",
      "│ 29  │ concave points_worst    │ 0.114606   │ 0.0       │ 0.09993  │ 0.291     │         │          │ Float64  │\n",
      "│ 30  │ symmetry_worst          │ 0.290076   │ 0.1565    │ 0.2822   │ 0.6638    │         │          │ Float64  │\n",
      "│ 31  │ fractal_dimension_worst │ 0.0839458  │ 0.05504   │ 0.08004  │ 0.2075    │         │          │ Float64  │\n",
      "│ 32  │ diagnosis               │ 0.372583   │ 0         │ 0.0      │ 1         │         │          │ Int64    │\n"
     ]
    }
   ],
   "source": [
    "println(describe(newdf))"
   ]
  },
  {
   "cell_type": "code",
   "execution_count": 365,
   "metadata": {},
   "outputs": [
    {
     "data": {
      "image/png": "[encoded data removed]",
      "text/plain": [
       "Figure(PyObject <Figure size 640x480 with 1 Axes>)"
      ]
     },
     "metadata": {},
     "output_type": "display_data"
    },
    {
     "data": {
      "text/plain": [
       "PyObject Text(24.000000000000007, 0.5, 'Frequency')"
      ]
     },
     "execution_count": 365,
     "metadata": {},
     "output_type": "execute_result"
    }
   ],
   "source": [
    "using PyPlot\n",
    "PyPlot.plt.hist(newdf[:diagnosis], 2)\n",
    "plt.title(\"Histogram of Diagnosis\")\n",
    "plt.xlabel(\"Benign(B), Malignant(M)\")\n",
    "plt.ylabel(\"Frequency\")"
   ]
  },
  {
   "cell_type": "markdown",
   "metadata": {},
   "source": [
    "# Spliting the dataset into train, test"
   ]
  },
  {
   "cell_type": "markdown",
   "metadata": {},
   "source": [
    "##### Shuffling the Dataset"
   ]
  },
  {
   "cell_type": "code",
   "execution_count": 313,
   "metadata": {},
   "outputs": [
    {
     "data": {
      "text/html": [
       "<table class=\"data-frame\"><thead><tr><th></th><th>id</th><th>radius_mean</th><th>texture_mean</th><th>perimeter_mean</th><th>area_mean</th><th>smoothness_mean</th></tr><tr><th></th><th>Int64</th><th>Float64</th><th>Float64</th><th>Float64</th><th>Float64</th><th>Float64</th></tr></thead><tbody><p>10 rows × 32 columns (omitted printing of 26 columns)</p><tr><th>1</th><td>88649001</td><td>19.55</td><td>28.77</td><td>133.6</td><td>1207.0</td><td>0.0926</td></tr><tr><th>2</th><td>8612080</td><td>12.0</td><td>15.65</td><td>76.95</td><td>443.3</td><td>0.09723</td></tr><tr><th>3</th><td>8810158</td><td>13.11</td><td>22.54</td><td>87.02</td><td>529.4</td><td>0.1002</td></tr><tr><th>4</th><td>889403</td><td>15.61</td><td>19.38</td><td>100.0</td><td>758.6</td><td>0.0784</td></tr><tr><th>5</th><td>894335</td><td>12.43</td><td>17.0</td><td>78.6</td><td>477.3</td><td>0.07557</td></tr><tr><th>6</th><td>871149</td><td>10.9</td><td>12.96</td><td>68.69</td><td>366.8</td><td>0.07515</td></tr><tr><th>7</th><td>86135501</td><td>14.48</td><td>21.46</td><td>94.25</td><td>648.2</td><td>0.09444</td></tr><tr><th>8</th><td>8810987</td><td>13.86</td><td>16.93</td><td>90.96</td><td>578.9</td><td>0.1026</td></tr><tr><th>9</th><td>864018</td><td>11.34</td><td>21.26</td><td>72.48</td><td>396.5</td><td>0.08759</td></tr><tr><th>10</th><td>88995002</td><td>20.73</td><td>31.12</td><td>135.7</td><td>1419.0</td><td>0.09469</td></tr></tbody></table>"
      ],
      "text/latex": [
       "\\begin{tabular}{r|ccccccc}\n",
       "\t& id & radius\\_mean & texture\\_mean & perimeter\\_mean & area\\_mean & smoothness\\_mean & \\\\\n",
       "\t\\hline\n",
       "\t& Int64 & Float64 & Float64 & Float64 & Float64 & Float64 & \\\\\n",
       "\t\\hline\n",
       "\t1 & 88649001 & 19.55 & 28.77 & 133.6 & 1207.0 & 0.0926 & $\\dots$ \\\\\n",
       "\t2 & 8612080 & 12.0 & 15.65 & 76.95 & 443.3 & 0.09723 & $\\dots$ \\\\\n",
       "\t3 & 8810158 & 13.11 & 22.54 & 87.02 & 529.4 & 0.1002 & $\\dots$ \\\\\n",
       "\t4 & 889403 & 15.61 & 19.38 & 100.0 & 758.6 & 0.0784 & $\\dots$ \\\\\n",
       "\t5 & 894335 & 12.43 & 17.0 & 78.6 & 477.3 & 0.07557 & $\\dots$ \\\\\n",
       "\t6 & 871149 & 10.9 & 12.96 & 68.69 & 366.8 & 0.07515 & $\\dots$ \\\\\n",
       "\t7 & 86135501 & 14.48 & 21.46 & 94.25 & 648.2 & 0.09444 & $\\dots$ \\\\\n",
       "\t8 & 8810987 & 13.86 & 16.93 & 90.96 & 578.9 & 0.1026 & $\\dots$ \\\\\n",
       "\t9 & 864018 & 11.34 & 21.26 & 72.48 & 396.5 & 0.08759 & $\\dots$ \\\\\n",
       "\t10 & 88995002 & 20.73 & 31.12 & 135.7 & 1419.0 & 0.09469 & $\\dots$ \\\\\n",
       "\\end{tabular}\n"
      ],
      "text/plain": [
       "10×32 DataFrame. Omitted printing of 27 columns\n",
       "│ Row │ id       │ radius_mean │ texture_mean │ perimeter_mean │ area_mean │\n",
       "│     │ \u001b[90mInt64\u001b[39m    │ \u001b[90mFloat64\u001b[39m     │ \u001b[90mFloat64\u001b[39m      │ \u001b[90mFloat64\u001b[39m        │ \u001b[90mFloat64\u001b[39m   │\n",
       "├─────┼──────────┼─────────────┼──────────────┼────────────────┼───────────┤\n",
       "│ 1   │ 88649001 │ 19.55       │ 28.77        │ 133.6          │ 1207.0    │\n",
       "│ 2   │ 8612080  │ 12.0        │ 15.65        │ 76.95          │ 443.3     │\n",
       "│ 3   │ 8810158  │ 13.11       │ 22.54        │ 87.02          │ 529.4     │\n",
       "│ 4   │ 889403   │ 15.61       │ 19.38        │ 100.0          │ 758.6     │\n",
       "│ 5   │ 894335   │ 12.43       │ 17.0         │ 78.6           │ 477.3     │\n",
       "│ 6   │ 871149   │ 10.9        │ 12.96        │ 68.69          │ 366.8     │\n",
       "│ 7   │ 86135501 │ 14.48       │ 21.46        │ 94.25          │ 648.2     │\n",
       "│ 8   │ 8810987  │ 13.86       │ 16.93        │ 90.96          │ 578.9     │\n",
       "│ 9   │ 864018   │ 11.34       │ 21.26        │ 72.48          │ 396.5     │\n",
       "│ 10  │ 88995002 │ 20.73       │ 31.12        │ 135.7          │ 1419.0    │"
      ]
     },
     "execution_count": 313,
     "metadata": {},
     "output_type": "execute_result"
    }
   ],
   "source": [
    "using MLDataUtils\n",
    "newdf_s = shuffleobs(newdf);\n",
    "first(newdf_s,10)"
   ]
  },
  {
   "cell_type": "markdown",
   "metadata": {},
   "source": [
    "##### Spliting into train and test"
   ]
  },
  {
   "cell_type": "code",
   "execution_count": 314,
   "metadata": {},
   "outputs": [],
   "source": [
    "train, test = splitobs(newdf_s, at = 0.70);"
   ]
  },
  {
   "cell_type": "markdown",
   "metadata": {},
   "source": [
    "##### Seperating the features and class label"
   ]
  },
  {
   "cell_type": "code",
   "execution_count": 315,
   "metadata": {},
   "outputs": [
    {
     "data": {
      "text/plain": [
       "(398, 32)"
      ]
     },
     "execution_count": 315,
     "metadata": {},
     "output_type": "execute_result"
    }
   ],
   "source": [
    "row,col = size(train)"
   ]
  },
  {
   "cell_type": "code",
   "execution_count": 316,
   "metadata": {},
   "outputs": [],
   "source": [
    "X_train = convert(Matrix, train[:,2:col-1]);\n",
    "y_train = convert(Matrix, train[:,col:col]);\n",
    "X_test = convert(Matrix, test[:,2:col-1]);\n",
    "y_test = convert(Matrix, test[:,col:col]);"
   ]
  },
  {
   "cell_type": "code",
   "execution_count": null,
   "metadata": {},
   "outputs": [],
   "source": []
  },
  {
   "cell_type": "markdown",
   "metadata": {},
   "source": [
    "##### Converting (n,1) dimension to (n, ) as per the classifiers requirements"
   ]
  },
  {
   "cell_type": "code",
   "execution_count": 317,
   "metadata": {},
   "outputs": [],
   "source": [
    "y_train = vec(y_train);\n",
    "y_test = vec(y_test);"
   ]
  },
  {
   "cell_type": "markdown",
   "metadata": {},
   "source": [
    "# Applying algorithms to train models "
   ]
  },
  {
   "cell_type": "markdown",
   "metadata": {},
   "source": [
    "### RandomForest"
   ]
  },
  {
   "cell_type": "markdown",
   "metadata": {},
   "source": [
    "##### Loading necessary packages"
   ]
  },
  {
   "cell_type": "code",
   "execution_count": 318,
   "metadata": {},
   "outputs": [],
   "source": [
    "using DecisionTree"
   ]
  },
  {
   "cell_type": "code",
   "execution_count": 319,
   "metadata": {},
   "outputs": [
    {
     "name": "stdout",
     "output_type": "stream",
     "text": [
      "search: \u001b[0m\u001b[1mR\u001b[22m\u001b[0m\u001b[1ma\u001b[22m\u001b[0m\u001b[1mn\u001b[22m\u001b[0m\u001b[1md\u001b[22m\u001b[0m\u001b[1mo\u001b[22m\u001b[0m\u001b[1mm\u001b[22m\u001b[0m\u001b[1mF\u001b[22m\u001b[0m\u001b[1mo\u001b[22m\u001b[0m\u001b[1mr\u001b[22m\u001b[0m\u001b[1me\u001b[22m\u001b[0m\u001b[1ms\u001b[22m\u001b[0m\u001b[1mt\u001b[22m\u001b[0m\u001b[1mC\u001b[22m\u001b[0m\u001b[1ml\u001b[22m\u001b[0m\u001b[1ma\u001b[22m\u001b[0m\u001b[1ms\u001b[22m\u001b[0m\u001b[1ms\u001b[22m\u001b[0m\u001b[1mi\u001b[22m\u001b[0m\u001b[1mf\u001b[22m\u001b[0m\u001b[1mi\u001b[22m\u001b[0m\u001b[1me\u001b[22m\u001b[0m\u001b[1mr\u001b[22m\n",
      "\n"
     ]
    },
    {
     "data": {
      "text/latex": [
       "\\begin{verbatim}\n",
       "RandomForestClassifier(; n_subfeatures::Int=-1,\n",
       "                       n_trees::Int=10,\n",
       "                       partial_sampling::Float=0.7,\n",
       "                       max_depth::Int=-1,\n",
       "                       rng=Random.GLOBAL_RNG)\n",
       "\\end{verbatim}\n",
       "Random forest classification. See \\href{https://github.com/bensadeghi/DecisionTree.jl}{DecisionTree.jl's documentation}\n",
       "\n",
       "Hyperparameters:\n",
       "\n",
       "\\begin{itemize}\n",
       "\\item \\texttt{n\\_subfeatures}: number of features to consider at random per split (default: -1, sqrt(\\# features))\n",
       "\n",
       "\n",
       "\\item \\texttt{n\\_trees}: number of trees to train (default: 10)\n",
       "\n",
       "\n",
       "\\item \\texttt{partial\\_sampling}: fraction of samples to train each tree on (default: 0.7)\n",
       "\n",
       "\n",
       "\\item \\texttt{max\\_depth}: maximum depth of the decision trees (default: no maximum)\n",
       "\n",
       "\n",
       "\\item \\texttt{min\\_samples\\_leaf}: the minimum number of samples each leaf needs to have\n",
       "\n",
       "\n",
       "\\item \\texttt{min\\_samples\\_split}: the minimum number of samples in needed for a split\n",
       "\n",
       "\n",
       "\\item \\texttt{min\\_purity\\_increase}: minimum purity needed for a split\n",
       "\n",
       "\n",
       "\\item \\texttt{rng}: the random number generator to use. Can be an \\texttt{Int}, which will be used to seed and create a new random number generator.\n",
       "\n",
       "\\end{itemize}\n",
       "Implements \\texttt{fit!}, \\texttt{predict}, \\texttt{predict\\_proba}, \\texttt{get\\_classes}\n",
       "\n"
      ],
      "text/markdown": [
       "```\n",
       "RandomForestClassifier(; n_subfeatures::Int=-1,\n",
       "                       n_trees::Int=10,\n",
       "                       partial_sampling::Float=0.7,\n",
       "                       max_depth::Int=-1,\n",
       "                       rng=Random.GLOBAL_RNG)\n",
       "```\n",
       "\n",
       "Random forest classification. See [DecisionTree.jl's documentation](https://github.com/bensadeghi/DecisionTree.jl)\n",
       "\n",
       "Hyperparameters:\n",
       "\n",
       "  * `n_subfeatures`: number of features to consider at random per split (default: -1, sqrt(# features))\n",
       "  * `n_trees`: number of trees to train (default: 10)\n",
       "  * `partial_sampling`: fraction of samples to train each tree on (default: 0.7)\n",
       "  * `max_depth`: maximum depth of the decision trees (default: no maximum)\n",
       "  * `min_samples_leaf`: the minimum number of samples each leaf needs to have\n",
       "  * `min_samples_split`: the minimum number of samples in needed for a split\n",
       "  * `min_purity_increase`: minimum purity needed for a split\n",
       "  * `rng`: the random number generator to use. Can be an `Int`, which will be used to seed and create a new random number generator.\n",
       "\n",
       "Implements `fit!`, `predict`, `predict_proba`, `get_classes`\n"
      ],
      "text/plain": [
       "\u001b[36m  RandomForestClassifier(; n_subfeatures::Int=-1,\u001b[39m\n",
       "\u001b[36m                         n_trees::Int=10,\u001b[39m\n",
       "\u001b[36m                         partial_sampling::Float=0.7,\u001b[39m\n",
       "\u001b[36m                         max_depth::Int=-1,\u001b[39m\n",
       "\u001b[36m                         rng=Random.GLOBAL_RNG)\u001b[39m\n",
       "\n",
       "  Random forest classification. See DecisionTree.jl's documentation\n",
       "  (https://github.com/bensadeghi/DecisionTree.jl)\n",
       "\n",
       "  Hyperparameters:\n",
       "\n",
       "    •    \u001b[36mn_subfeatures\u001b[39m: number of features to consider at random per split\n",
       "        (default: -1, sqrt(# features))\n",
       "\n",
       "    •    \u001b[36mn_trees\u001b[39m: number of trees to train (default: 10)\n",
       "\n",
       "    •    \u001b[36mpartial_sampling\u001b[39m: fraction of samples to train each tree on\n",
       "        (default: 0.7)\n",
       "\n",
       "    •    \u001b[36mmax_depth\u001b[39m: maximum depth of the decision trees (default: no\n",
       "        maximum)\n",
       "\n",
       "    •    \u001b[36mmin_samples_leaf\u001b[39m: the minimum number of samples each leaf needs to\n",
       "        have\n",
       "\n",
       "    •    \u001b[36mmin_samples_split\u001b[39m: the minimum number of samples in needed for a\n",
       "        split\n",
       "\n",
       "    •    \u001b[36mmin_purity_increase\u001b[39m: minimum purity needed for a split\n",
       "\n",
       "    •    \u001b[36mrng\u001b[39m: the random number generator to use. Can be an \u001b[36mInt\u001b[39m, which will\n",
       "        be used to seed and create a new random number generator.\n",
       "\n",
       "  Implements \u001b[36mfit!\u001b[39m, \u001b[36mpredict\u001b[39m, \u001b[36mpredict_proba\u001b[39m, \u001b[36mget_classes\u001b[39m"
      ]
     },
     "execution_count": 319,
     "metadata": {},
     "output_type": "execute_result"
    }
   ],
   "source": [
    "?RandomForestClassifier"
   ]
  },
  {
   "cell_type": "markdown",
   "metadata": {},
   "source": [
    "##### Creating an object of Classifier"
   ]
  },
  {
   "cell_type": "code",
   "execution_count": 320,
   "metadata": {
    "scrolled": true
   },
   "outputs": [],
   "source": [
    "using DecisionTree\n",
    "using ScikitLearn: fit!, predict\n",
    "rfc = RandomForestClassifier(n_trees = 110, n_subfeatures = 15, max_depth = 7);"
   ]
  },
  {
   "cell_type": "markdown",
   "metadata": {},
   "source": [
    "##### Fitting the classifiers on training data samples"
   ]
  },
  {
   "cell_type": "code",
   "execution_count": 321,
   "metadata": {},
   "outputs": [],
   "source": [
    "fit!(rfc, X_train, y_train);"
   ]
  },
  {
   "cell_type": "markdown",
   "metadata": {},
   "source": [
    "##### predicting the test  data samples"
   ]
  },
  {
   "cell_type": "code",
   "execution_count": 322,
   "metadata": {},
   "outputs": [
    {
     "name": "stdout",
     "output_type": "stream",
     "text": [
      "A portion of prediction:\n"
     ]
    },
    {
     "data": {
      "text/plain": [
       "10-element Array{Int64,1}:\n",
       " 1\n",
       " 0\n",
       " 1\n",
       " 1\n",
       " 1\n",
       " 0\n",
       " 1\n",
       " 1\n",
       " 0\n",
       " 0"
      ]
     },
     "execution_count": 322,
     "metadata": {},
     "output_type": "execute_result"
    }
   ],
   "source": [
    "y_pred_rfc = predict(rfc, X_test);\n",
    "println(\"A portion of prediction:\")\n",
    "y_pred_rfc[1:10]"
   ]
  },
  {
   "cell_type": "code",
   "execution_count": 323,
   "metadata": {},
   "outputs": [
    {
     "data": {
      "text/plain": [
       "2×2 Array{Int64,2}:\n",
       " 105   3\n",
       "   4  59"
      ]
     },
     "metadata": {},
     "output_type": "display_data"
    },
    {
     "data": {
      "text/plain": [
       "Classes:  [0, 1]\n",
       "Matrix:   \n",
       "Accuracy: 0.9590643274853801\n",
       "Kappa:    0.9117451891174517"
      ]
     },
     "execution_count": 323,
     "metadata": {},
     "output_type": "execute_result"
    }
   ],
   "source": [
    "cm  = confusion_matrix(y_test, y_pred_rfc)"
   ]
  },
  {
   "cell_type": "markdown",
   "metadata": {},
   "source": [
    "### AdaBoostClassifier"
   ]
  },
  {
   "cell_type": "code",
   "execution_count": 324,
   "metadata": {},
   "outputs": [
    {
     "name": "stdout",
     "output_type": "stream",
     "text": [
      "search: \u001b[0m\u001b[1mA\u001b[22m\u001b[0m\u001b[1md\u001b[22m\u001b[0m\u001b[1ma\u001b[22m\u001b[0m\u001b[1mB\u001b[22m\u001b[0m\u001b[1mo\u001b[22m\u001b[0m\u001b[1mo\u001b[22m\u001b[0m\u001b[1ms\u001b[22m\u001b[0m\u001b[1mt\u001b[22m\u001b[0m\u001b[1mS\u001b[22m\u001b[0m\u001b[1mt\u001b[22m\u001b[0m\u001b[1mu\u001b[22m\u001b[0m\u001b[1mm\u001b[22m\u001b[0m\u001b[1mp\u001b[22m\u001b[0m\u001b[1mC\u001b[22m\u001b[0m\u001b[1ml\u001b[22m\u001b[0m\u001b[1ma\u001b[22m\u001b[0m\u001b[1ms\u001b[22m\u001b[0m\u001b[1ms\u001b[22m\u001b[0m\u001b[1mi\u001b[22m\u001b[0m\u001b[1mf\u001b[22m\u001b[0m\u001b[1mi\u001b[22m\u001b[0m\u001b[1me\u001b[22m\u001b[0m\u001b[1mr\u001b[22m\n",
      "\n"
     ]
    },
    {
     "data": {
      "text/latex": [
       "\\begin{verbatim}\n",
       "AdaBoostStumpClassifier(; n_iterations::Int=0)\n",
       "\\end{verbatim}\n",
       "Adaboosted decision tree stumps. See \\href{https://github.com/bensadeghi/DecisionTree.jl}{DecisionTree.jl's documentation}\n",
       "\n",
       "Hyperparameters:\n",
       "\n",
       "\\begin{itemize}\n",
       "\\item \\texttt{n\\_iterations}: number of iterations of AdaBoost\n",
       "\n",
       "\n",
       "\\item \\texttt{rng}: the random number generator to use. Can be an \\texttt{Int}, which will be used to seed and create a new random number generator.\n",
       "\n",
       "\\end{itemize}\n",
       "Implements \\texttt{fit!}, \\texttt{predict}, \\texttt{predict\\_proba}, \\texttt{get\\_classes}\n",
       "\n"
      ],
      "text/markdown": [
       "```\n",
       "AdaBoostStumpClassifier(; n_iterations::Int=0)\n",
       "```\n",
       "\n",
       "Adaboosted decision tree stumps. See [DecisionTree.jl's documentation](https://github.com/bensadeghi/DecisionTree.jl)\n",
       "\n",
       "Hyperparameters:\n",
       "\n",
       "  * `n_iterations`: number of iterations of AdaBoost\n",
       "  * `rng`: the random number generator to use. Can be an `Int`, which will be used to seed and create a new random number generator.\n",
       "\n",
       "Implements `fit!`, `predict`, `predict_proba`, `get_classes`\n"
      ],
      "text/plain": [
       "\u001b[36m  AdaBoostStumpClassifier(; n_iterations::Int=0)\u001b[39m\n",
       "\n",
       "  Adaboosted decision tree stumps. See DecisionTree.jl's documentation\n",
       "  (https://github.com/bensadeghi/DecisionTree.jl)\n",
       "\n",
       "  Hyperparameters:\n",
       "\n",
       "    •    \u001b[36mn_iterations\u001b[39m: number of iterations of AdaBoost\n",
       "\n",
       "    •    \u001b[36mrng\u001b[39m: the random number generator to use. Can be an \u001b[36mInt\u001b[39m, which will\n",
       "        be used to seed and create a new random number generator.\n",
       "\n",
       "  Implements \u001b[36mfit!\u001b[39m, \u001b[36mpredict\u001b[39m, \u001b[36mpredict_proba\u001b[39m, \u001b[36mget_classes\u001b[39m"
      ]
     },
     "execution_count": 324,
     "metadata": {},
     "output_type": "execute_result"
    }
   ],
   "source": [
    "?AdaBoostStumpClassifier"
   ]
  },
  {
   "cell_type": "markdown",
   "metadata": {},
   "source": [
    "##### Parameter Tuning"
   ]
  },
  {
   "cell_type": "code",
   "execution_count": 325,
   "metadata": {},
   "outputs": [
    {
     "name": "stdout",
     "output_type": "stream",
     "text": [
      "Best parameters: Dict{Symbol,Any}(:n_iterations=>89)\n"
     ]
    }
   ],
   "source": [
    "using ScikitLearn.GridSearch: GridSearchCV\n",
    "\n",
    "gridsearch = GridSearchCV(AdaBoostStumpClassifier(), Dict(:n_iterations => 1:1:100))\n",
    "fit!(gridsearch, X_train, y_train)\n",
    "println(\"Best parameters: $(gridsearch.best_params_)\")"
   ]
  },
  {
   "cell_type": "markdown",
   "metadata": {},
   "source": [
    "#####  Creating object of Random Forest"
   ]
  },
  {
   "cell_type": "code",
   "execution_count": 326,
   "metadata": {},
   "outputs": [],
   "source": [
    "abc = AdaBoostStumpClassifier(n_iterations = 89);\n",
    "fit!(abc, X_train, y_train);"
   ]
  },
  {
   "cell_type": "code",
   "execution_count": 327,
   "metadata": {},
   "outputs": [
    {
     "name": "stdout",
     "output_type": "stream",
     "text": [
      "A portion of prediction:\n"
     ]
    },
    {
     "data": {
      "text/plain": [
       "10-element Array{Int64,1}:\n",
       " 1\n",
       " 0\n",
       " 1\n",
       " 1\n",
       " 1\n",
       " 0\n",
       " 1\n",
       " 1\n",
       " 0\n",
       " 0"
      ]
     },
     "execution_count": 327,
     "metadata": {},
     "output_type": "execute_result"
    }
   ],
   "source": [
    "y_pred_abc = predict(abc, X_test);\n",
    "println(\"A portion of prediction:\")\n",
    "y_pred_abc[1:10]"
   ]
  },
  {
   "cell_type": "code",
   "execution_count": 328,
   "metadata": {},
   "outputs": [
    {
     "data": {
      "text/plain": [
       "2×2 Array{Int64,2}:\n",
       " 105   3\n",
       "   3  60"
      ]
     },
     "metadata": {},
     "output_type": "display_data"
    },
    {
     "data": {
      "text/plain": [
       "Classes:  [0, 1]\n",
       "Matrix:   \n",
       "Accuracy: 0.9649122807017544\n",
       "Kappa:    0.9246031746031746"
      ]
     },
     "execution_count": 328,
     "metadata": {},
     "output_type": "execute_result"
    }
   ],
   "source": [
    "cm  = confusion_matrix(y_test, y_pred_abc)"
   ]
  },
  {
   "cell_type": "code",
   "execution_count": 329,
   "metadata": {},
   "outputs": [
    {
     "name": "stdout",
     "output_type": "stream",
     "text": [
      "search: \u001b[0m\u001b[1mD\u001b[22m\u001b[0m\u001b[1me\u001b[22m\u001b[0m\u001b[1mc\u001b[22m\u001b[0m\u001b[1mi\u001b[22m\u001b[0m\u001b[1ms\u001b[22m\u001b[0m\u001b[1mi\u001b[22m\u001b[0m\u001b[1mo\u001b[22m\u001b[0m\u001b[1mn\u001b[22m\u001b[0m\u001b[1mT\u001b[22m\u001b[0m\u001b[1mr\u001b[22m\u001b[0m\u001b[1me\u001b[22m\u001b[0m\u001b[1me\u001b[22m\u001b[0m\u001b[1mC\u001b[22m\u001b[0m\u001b[1ml\u001b[22m\u001b[0m\u001b[1ma\u001b[22m\u001b[0m\u001b[1ms\u001b[22m\u001b[0m\u001b[1ms\u001b[22m\u001b[0m\u001b[1mi\u001b[22m\u001b[0m\u001b[1mf\u001b[22m\u001b[0m\u001b[1mi\u001b[22m\u001b[0m\u001b[1me\u001b[22m\u001b[0m\u001b[1mr\u001b[22m\n",
      "\n"
     ]
    },
    {
     "data": {
      "text/latex": [
       "\\begin{verbatim}\n",
       "DecisionTreeClassifier(; pruning_purity_threshold=0.0,\n",
       "                       max_depth::Int=-1,\n",
       "                       min_samples_leaf::Int=1,\n",
       "                       min_samples_split::Int=2,\n",
       "                       min_purity_increase::Float=0.0,\n",
       "                       n_subfeatures::Int=0,\n",
       "                       rng=Random.GLOBAL_RNG)\n",
       "\\end{verbatim}\n",
       "Decision tree classifier. See \\href{https://github.com/bensadeghi/DecisionTree.jl}{DecisionTree.jl's documentation}\n",
       "\n",
       "Hyperparameters:\n",
       "\n",
       "\\begin{itemize}\n",
       "\\item \\texttt{pruning\\_purity\\_threshold}: (post-pruning) merge leaves having \\texttt{>=thresh} combined purity (default: no pruning)\n",
       "\n",
       "\n",
       "\\item \\texttt{max\\_depth}: maximum depth of the decision tree (default: no maximum)\n",
       "\n",
       "\n",
       "\\item \\texttt{min\\_samples\\_leaf}: the minimum number of samples each leaf needs to have (default: 1)\n",
       "\n",
       "\n",
       "\\item \\texttt{min\\_samples\\_split}: the minimum number of samples in needed for a split (default: 2)\n",
       "\n",
       "\n",
       "\\item \\texttt{min\\_purity\\_increase}: minimum purity needed for a split (default: 0.0)\n",
       "\n",
       "\n",
       "\\item \\texttt{n\\_subfeatures}: number of features to select at random (default: keep all)\n",
       "\n",
       "\n",
       "\\item \\texttt{rng}: the random number generator to use. Can be an \\texttt{Int}, which will be used to seed and create a new random number generator.\n",
       "\n",
       "\\end{itemize}\n",
       "Implements \\texttt{fit!}, \\texttt{predict}, \\texttt{predict\\_proba}, \\texttt{get\\_classes}\n",
       "\n"
      ],
      "text/markdown": [
       "```\n",
       "DecisionTreeClassifier(; pruning_purity_threshold=0.0,\n",
       "                       max_depth::Int=-1,\n",
       "                       min_samples_leaf::Int=1,\n",
       "                       min_samples_split::Int=2,\n",
       "                       min_purity_increase::Float=0.0,\n",
       "                       n_subfeatures::Int=0,\n",
       "                       rng=Random.GLOBAL_RNG)\n",
       "```\n",
       "\n",
       "Decision tree classifier. See [DecisionTree.jl's documentation](https://github.com/bensadeghi/DecisionTree.jl)\n",
       "\n",
       "Hyperparameters:\n",
       "\n",
       "  * `pruning_purity_threshold`: (post-pruning) merge leaves having `>=thresh` combined purity (default: no pruning)\n",
       "  * `max_depth`: maximum depth of the decision tree (default: no maximum)\n",
       "  * `min_samples_leaf`: the minimum number of samples each leaf needs to have (default: 1)\n",
       "  * `min_samples_split`: the minimum number of samples in needed for a split (default: 2)\n",
       "  * `min_purity_increase`: minimum purity needed for a split (default: 0.0)\n",
       "  * `n_subfeatures`: number of features to select at random (default: keep all)\n",
       "  * `rng`: the random number generator to use. Can be an `Int`, which will be used to seed and create a new random number generator.\n",
       "\n",
       "Implements `fit!`, `predict`, `predict_proba`, `get_classes`\n"
      ],
      "text/plain": [
       "\u001b[36m  DecisionTreeClassifier(; pruning_purity_threshold=0.0,\u001b[39m\n",
       "\u001b[36m                         max_depth::Int=-1,\u001b[39m\n",
       "\u001b[36m                         min_samples_leaf::Int=1,\u001b[39m\n",
       "\u001b[36m                         min_samples_split::Int=2,\u001b[39m\n",
       "\u001b[36m                         min_purity_increase::Float=0.0,\u001b[39m\n",
       "\u001b[36m                         n_subfeatures::Int=0,\u001b[39m\n",
       "\u001b[36m                         rng=Random.GLOBAL_RNG)\u001b[39m\n",
       "\n",
       "  Decision tree classifier. See DecisionTree.jl's documentation\n",
       "  (https://github.com/bensadeghi/DecisionTree.jl)\n",
       "\n",
       "  Hyperparameters:\n",
       "\n",
       "    •    \u001b[36mpruning_purity_threshold\u001b[39m: (post-pruning) merge leaves having\n",
       "        \u001b[36m>=thresh\u001b[39m combined purity (default: no pruning)\n",
       "\n",
       "    •    \u001b[36mmax_depth\u001b[39m: maximum depth of the decision tree (default: no\n",
       "        maximum)\n",
       "\n",
       "    •    \u001b[36mmin_samples_leaf\u001b[39m: the minimum number of samples each leaf needs to\n",
       "        have (default: 1)\n",
       "\n",
       "    •    \u001b[36mmin_samples_split\u001b[39m: the minimum number of samples in needed for a\n",
       "        split (default: 2)\n",
       "\n",
       "    •    \u001b[36mmin_purity_increase\u001b[39m: minimum purity needed for a split (default:\n",
       "        0.0)\n",
       "\n",
       "    •    \u001b[36mn_subfeatures\u001b[39m: number of features to select at random (default:\n",
       "        keep all)\n",
       "\n",
       "    •    \u001b[36mrng\u001b[39m: the random number generator to use. Can be an \u001b[36mInt\u001b[39m, which will\n",
       "        be used to seed and create a new random number generator.\n",
       "\n",
       "  Implements \u001b[36mfit!\u001b[39m, \u001b[36mpredict\u001b[39m, \u001b[36mpredict_proba\u001b[39m, \u001b[36mget_classes\u001b[39m"
      ]
     },
     "execution_count": 329,
     "metadata": {},
     "output_type": "execute_result"
    }
   ],
   "source": [
    "?DecisionTreeClassifier"
   ]
  },
  {
   "cell_type": "code",
   "execution_count": 330,
   "metadata": {},
   "outputs": [
    {
     "name": "stdout",
     "output_type": "stream",
     "text": [
      "A portion of prediction:\n"
     ]
    },
    {
     "data": {
      "text/plain": [
       "10-element Array{Int64,1}:\n",
       " 1\n",
       " 0\n",
       " 1\n",
       " 1\n",
       " 1\n",
       " 0\n",
       " 1\n",
       " 1\n",
       " 0\n",
       " 0"
      ]
     },
     "execution_count": 330,
     "metadata": {},
     "output_type": "execute_result"
    }
   ],
   "source": [
    "dtc = DecisionTreeClassifier()\n",
    "fit!(dtc, X_train, y_train);\n",
    "y_pred_dtc = predict(dtc, X_test);\n",
    "println(\"A portion of prediction:\")\n",
    "y_pred_dtc[1:10]"
   ]
  },
  {
   "cell_type": "code",
   "execution_count": 331,
   "metadata": {},
   "outputs": [
    {
     "data": {
      "text/plain": [
       "2×2 Array{Int64,2}:\n",
       " 103   5\n",
       "   4  59"
      ]
     },
     "metadata": {},
     "output_type": "display_data"
    },
    {
     "data": {
      "text/plain": [
       "Classes:  [0, 1]\n",
       "Matrix:   \n",
       "Accuracy: 0.9473684210526315\n",
       "Kappa:    0.8872775214238627"
      ]
     },
     "execution_count": 331,
     "metadata": {},
     "output_type": "execute_result"
    }
   ],
   "source": [
    "cm  = confusion_matrix(y_test, y_pred_dtc)"
   ]
  },
  {
   "cell_type": "markdown",
   "metadata": {},
   "source": [
    "### XGBoost"
   ]
  },
  {
   "cell_type": "code",
   "execution_count": 332,
   "metadata": {},
   "outputs": [],
   "source": [
    "#import Pkg; \n",
    "#Pkg.add(\"XGBoost\")"
   ]
  },
  {
   "cell_type": "code",
   "execution_count": 333,
   "metadata": {},
   "outputs": [],
   "source": [
    "using XGBoost"
   ]
  },
  {
   "cell_type": "code",
   "execution_count": 334,
   "metadata": {},
   "outputs": [
    {
     "name": "stdout",
     "output_type": "stream",
     "text": [
      "search: \u001b[0m\u001b[1mx\u001b[22m\u001b[0m\u001b[1mg\u001b[22m\u001b[0m\u001b[1mb\u001b[22m\u001b[0m\u001b[1mo\u001b[22m\u001b[0m\u001b[1mo\u001b[22m\u001b[0m\u001b[1ms\u001b[22m\u001b[0m\u001b[1mt\u001b[22m \u001b[0m\u001b[1mX\u001b[22m\u001b[0m\u001b[1mG\u001b[22m\u001b[0m\u001b[1mB\u001b[22m\u001b[0m\u001b[1mo\u001b[22m\u001b[0m\u001b[1mo\u001b[22m\u001b[0m\u001b[1ms\u001b[22m\u001b[0m\u001b[1mt\u001b[22m\n",
      "\n"
     ]
    },
    {
     "data": {
      "text/latex": [
       "No documentation found.\n",
       "\n",
       "\\texttt{XGBoost.xgboost} is a \\texttt{Function}.\n",
       "\n",
       "\\begin{verbatim}\n",
       "# 1 method for generic function \"xgboost\":\n",
       "[1] xgboost(data, nrounds::Integer; label, param, watchlist, metrics, obj, feval, group, kwargs...) in XGBoost at C:\\Users\\idpau\\.julia\\packages\\XGBoost\\LXjD0\\src\\xgboost_lib.jl:145\n",
       "\\end{verbatim}\n"
      ],
      "text/markdown": [
       "No documentation found.\n",
       "\n",
       "`XGBoost.xgboost` is a `Function`.\n",
       "\n",
       "```\n",
       "# 1 method for generic function \"xgboost\":\n",
       "[1] xgboost(data, nrounds::Integer; label, param, watchlist, metrics, obj, feval, group, kwargs...) in XGBoost at C:\\Users\\idpau\\.julia\\packages\\XGBoost\\LXjD0\\src\\xgboost_lib.jl:145\n",
       "```\n"
      ],
      "text/plain": [
       "  No documentation found.\n",
       "\n",
       "  \u001b[36mXGBoost.xgboost\u001b[39m is a \u001b[36mFunction\u001b[39m.\n",
       "\n",
       "\u001b[36m  # 1 method for generic function \"xgboost\":\u001b[39m\n",
       "\u001b[36m  [1] xgboost(data, nrounds::Integer; label, param, watchlist, metrics, obj, feval, group, kwargs...) in XGBoost at C:\\Users\\idpau\\.julia\\packages\\XGBoost\\LXjD0\\src\\xgboost_lib.jl:145\u001b[39m"
      ]
     },
     "execution_count": 334,
     "metadata": {},
     "output_type": "execute_result"
    }
   ],
   "source": [
    "?xgboost"
   ]
  },
  {
   "cell_type": "code",
   "execution_count": null,
   "metadata": {},
   "outputs": [],
   "source": []
  },
  {
   "cell_type": "code",
   "execution_count": 335,
   "metadata": {},
   "outputs": [
    {
     "name": "stderr",
     "output_type": "stream",
     "text": [
      "[1]\ttrain-rmse:0.198602\n",
      "[2]\ttrain-rmse:0.176235\n",
      "[3]\ttrain-rmse:0.169523\n",
      "[4]\ttrain-rmse:0.147972\n",
      "[5]\ttrain-rmse:0.142516\n"
     ]
    },
    {
     "data": {
      "text/plain": [
       "Booster(Ptr{Nothing} @0x0000000030c6d870)"
      ]
     },
     "execution_count": 335,
     "metadata": {},
     "output_type": "execute_result"
    }
   ],
   "source": [
    "num_round = 5\n",
    "xgbc = xgboost(X_train, num_round, label = y_train, eta = 1, max_depth = 2)"
   ]
  },
  {
   "cell_type": "code",
   "execution_count": 336,
   "metadata": {},
   "outputs": [
    {
     "name": "stdout",
     "output_type": "stream",
     "text": [
      "test-error=0.05263157894736842\n"
     ]
    }
   ],
   "source": [
    "y_pred_xgbc = XGBoost.predict(xgbc, X_test)\n",
    "print(\"test-error=\", sum((y_pred_xgbc .> 0.5) .!= y_test) / float(size(y_pred_xgbc)[1]), \"\\n\")"
   ]
  },
  {
   "cell_type": "code",
   "execution_count": 337,
   "metadata": {},
   "outputs": [
    {
     "data": {
      "text/plain": [
       "171-element Array{Float32,1}:\n",
       "  0.53978115 \n",
       " -0.25779533 \n",
       "  1.0317149  \n",
       "  1.0317149  \n",
       "  1.0317149  \n",
       "  0.010956287\n",
       "  0.45978114 \n",
       "  1.0317149  \n",
       " -0.031113505\n",
       "  0.05084306 \n",
       "  0.010956287\n",
       " -0.310997   \n",
       "  0.061974943\n",
       "  ⋮          \n",
       "  0.061974943\n",
       "  0.9918282  \n",
       "  0.05084306 \n",
       " -0.031113505\n",
       " -0.042245388\n",
       "  1.0317149  \n",
       "  0.061974943\n",
       "  0.05084306 \n",
       " -0.042245388\n",
       " -0.042245388\n",
       "  1.0317149  \n",
       "  1.0317149  "
      ]
     },
     "execution_count": 337,
     "metadata": {},
     "output_type": "execute_result"
    }
   ],
   "source": [
    "y_pred_xgbc"
   ]
  },
  {
   "cell_type": "code",
   "execution_count": 338,
   "metadata": {},
   "outputs": [
    {
     "ename": "BoundsError",
     "evalue": "BoundsError: attempt to access 171-element Array{Float32,1} at index [0]",
     "output_type": "error",
     "traceback": [
      "BoundsError: attempt to access 171-element Array{Float32,1} at index [0]",
      "",
      "Stacktrace:",
      " [1] getindex(::Array{Float32,1}, ::Int64) at .\\array.jl:729",
      " [2] top-level scope at In[338]:1"
     ]
    }
   ],
   "source": [
    "cm  = confusion_matrix(y_test, y_pred_xgbc[0])"
   ]
  },
  {
   "cell_type": "markdown",
   "metadata": {},
   "source": [
    "# Performance and Results"
   ]
  },
  {
   "cell_type": "markdown",
   "metadata": {},
   "source": [
    "### Performance evaluation criteria"
   ]
  },
  {
   "cell_type": "markdown",
   "metadata": {},
   "source": [
    "##### Defining functions for calculating different performance metrices"
   ]
  },
  {
   "cell_type": "code",
   "execution_count": 339,
   "metadata": {},
   "outputs": [
    {
     "data": {
      "text/plain": [
       "fprate (generic function with 1 method)"
      ]
     },
     "execution_count": 339,
     "metadata": {},
     "output_type": "execute_result"
    }
   ],
   "source": [
    "using PyCall\n",
    "math = pyimport(\"math\")\n",
    "\n",
    "function accuracy_(tn,fp,fn,tp)\n",
    "    return ((tp+tn)/(tp+fp+fn+tn))\n",
    "end\n",
    "\n",
    "#True Positive Rate or Recall\n",
    "function sensitivity(tp,fn)\n",
    "    return (tp / (tp + fn))\n",
    "end\n",
    "\n",
    "tprate = sensitivity\n",
    "recall = sensitivity\n",
    "\n",
    "#True Negative Rate\n",
    "function specificity(tn,fp)\n",
    "    return (tn / (fp + tn))\n",
    "end\n",
    "\n",
    "function mcc(tn,fp,fn,tp)\n",
    "    return (tp*tn-fp*fn)/math.sqrt((tp+fp)*(tp+fn)*(tn+fp)*(tn+fn))\n",
    "end\n",
    "\n",
    "function auc_score(tn,fp,fn,tp)\n",
    "    return (sensitivity(tp,fn) + specificity(tn,fp)) / 2\n",
    "end\n",
    "\n",
    "function gmean_score(tn,fp,fn,tp)\n",
    "    return math.sqrt(sensitivity(tp,fn) * specificity(tn,fp))\n",
    "end\n",
    "\n",
    "function precision(tp, fp)\n",
    "    return (tp / (tp + fp))\n",
    "end\n",
    "\n",
    "function f1score(tp, fp, fn)\n",
    "    return (2*tp/(2*tp + fp + fn))\n",
    "end\n",
    "\n",
    "function fprate(tn,fp)\n",
    "    return (fp / (fp + tn))\n",
    "end"
   ]
  },
  {
   "cell_type": "markdown",
   "metadata": {},
   "source": [
    "##### Definfing a function for producing all scores at once."
   ]
  },
  {
   "cell_type": "code",
   "execution_count": 340,
   "metadata": {},
   "outputs": [
    {
     "data": {
      "text/plain": [
       "getAllScore (generic function with 1 method)"
      ]
     },
     "execution_count": 340,
     "metadata": {},
     "output_type": "execute_result"
    }
   ],
   "source": [
    "function getAllScore(tp,tn,fp,fn)\n",
    "    acc = accuracy_(tn,fp,fn,tp)\n",
    "    sn = sensitivity(tp,fn)\n",
    "    sp = specificity(tn,fp)\n",
    "    auc = auc_score(tn,fp,fn,tp)\n",
    "    gmean = gmean_score(tn,fp,fn,tp)\n",
    "    preci = precision(tp, fp)\n",
    "    f1 = f1score(tp,fp,fn)\n",
    "    fpr = fprate(tn,fp)\n",
    "    return acc, sn, sp, auc, gmean, preci, f1, fpr\n",
    "end"
   ]
  },
  {
   "cell_type": "markdown",
   "metadata": {},
   "source": [
    "### Result of RandomForest"
   ]
  },
  {
   "cell_type": "markdown",
   "metadata": {},
   "source": [
    "#### Loading MLBase to compute roc performance parameter "
   ]
  },
  {
   "cell_type": "code",
   "execution_count": 341,
   "metadata": {
    "scrolled": true
   },
   "outputs": [
    {
     "data": {
      "text/plain": [
       "ROCNums{Int64}\n",
       "  p = 63\n",
       "  n = 108\n",
       "  tp = 59\n",
       "  tn = 105\n",
       "  fp = 3\n",
       "  fn = 4\n"
      ]
     },
     "execution_count": 341,
     "metadata": {},
     "output_type": "execute_result"
    }
   ],
   "source": [
    "using MLBase\n",
    "r_rfc = roc(y_test, y_pred_rfc)"
   ]
  },
  {
   "cell_type": "markdown",
   "metadata": {},
   "source": [
    "##### Calling the getAllScore function"
   ]
  },
  {
   "cell_type": "code",
   "execution_count": 342,
   "metadata": {},
   "outputs": [
    {
     "data": {
      "text/plain": [
       "1×8 LinearAlgebra.Transpose{Float64,Array{Float64,1}}:\n",
       " 0.959064  0.936508  0.972222  0.954365  0.954198  0.951613  0.944  0.0277778"
      ]
     },
     "execution_count": 342,
     "metadata": {},
     "output_type": "execute_result"
    }
   ],
   "source": [
    "allScoresTuples = getAllScore(r_rfc.tp, r_rfc.tn, r_rfc.fp, r_rfc.fn)\n",
    "allScoresArray = [i for i in allScoresTuples]\n",
    "allScores = transpose(allScoresArray)"
   ]
  },
  {
   "cell_type": "code",
   "execution_count": 343,
   "metadata": {},
   "outputs": [
    {
     "data": {
      "text/latex": [
       "\\begin{verbatim}\n",
       "CSV.write(file, table; kwargs...) => file\n",
       "table |> CSV.write(file; kwargs...) => file\n",
       "\\end{verbatim}\n",
       "Write a \\href{https://github.com/JuliaData/Tables.jl}{Tables.jl interface input} to a csv file, given as an \\texttt{IO} argument or \\texttt{String}/FilePaths.jl type representing the file name to write to.\n",
       "\n",
       "Supported keyword arguments include:\n",
       "\n",
       "\\begin{itemize}\n",
       "\\item \\texttt{delim::Union\\{Char, String\\}=','}: a character or string to print out as the file's delimiter\n",
       "\n",
       "\n",
       "\\item \\texttt{quotechar::Char='\"'}: ascii character to use for quoting text fields that may contain delimiters or newlines\n",
       "\n",
       "\n",
       "\\item \\texttt{openquotechar::Char}: instead of \\texttt{quotechar}, use \\texttt{openquotechar} and \\texttt{closequotechar} to support different starting and ending quote characters\n",
       "\n",
       "\n",
       "\\item \\texttt{escapechar::Char='\"'}: ascii character used to escape quote characters in a text field\n",
       "\n",
       "\n",
       "\\item \\texttt{missingstring::String=\"\"}: string to print for \\texttt{missing} values \n",
       "\n",
       "\n",
       "\\item \\texttt{dateformat=Dates.default\\_format(T)}: the date format string to use for printing out \\texttt{Date} \\& \\texttt{DateTime} columns\n",
       "\n",
       "\n",
       "\\item \\texttt{append=false}: whether to append writing to an existing file/IO, if \\texttt{true}, it will not write column names by default\n",
       "\n",
       "\n",
       "\\item \\texttt{writeheader=!append}: whether to write an initial row of delimited column names, not written by default if appending\n",
       "\n",
       "\n",
       "\\item \\texttt{header}: pass a list of column names (Symbols or Strings) to use instead of the column names of the input table\n",
       "\n",
       "\n",
       "\\item \\texttt{newline='{\\textbackslash}n'}: character or string to use to separate rows (lines in the csv file)\n",
       "\n",
       "\n",
       "\\item \\texttt{quotestrings=false}: whether to force all strings to be quoted or not\n",
       "\n",
       "\n",
       "\\item \\texttt{decimal='.'}: character to use as the decimal point when writing floating point numbers\n",
       "\n",
       "\\end{itemize}\n"
      ],
      "text/markdown": [
       "```\n",
       "CSV.write(file, table; kwargs...) => file\n",
       "table |> CSV.write(file; kwargs...) => file\n",
       "```\n",
       "\n",
       "Write a [Tables.jl interface input](https://github.com/JuliaData/Tables.jl) to a csv file, given as an `IO` argument or `String`/FilePaths.jl type representing the file name to write to.\n",
       "\n",
       "Supported keyword arguments include:\n",
       "\n",
       "  * `delim::Union{Char, String}=','`: a character or string to print out as the file's delimiter\n",
       "  * `quotechar::Char='\"'`: ascii character to use for quoting text fields that may contain delimiters or newlines\n",
       "  * `openquotechar::Char`: instead of `quotechar`, use `openquotechar` and `closequotechar` to support different starting and ending quote characters\n",
       "  * `escapechar::Char='\"'`: ascii character used to escape quote characters in a text field\n",
       "  * `missingstring::String=\"\"`: string to print for `missing` values\n",
       "  * `dateformat=Dates.default_format(T)`: the date format string to use for printing out `Date` & `DateTime` columns\n",
       "  * `append=false`: whether to append writing to an existing file/IO, if `true`, it will not write column names by default\n",
       "  * `writeheader=!append`: whether to write an initial row of delimited column names, not written by default if appending\n",
       "  * `header`: pass a list of column names (Symbols or Strings) to use instead of the column names of the input table\n",
       "  * `newline='\\n'`: character or string to use to separate rows (lines in the csv file)\n",
       "  * `quotestrings=false`: whether to force all strings to be quoted or not\n",
       "  * `decimal='.'`: character to use as the decimal point when writing floating point numbers\n"
      ],
      "text/plain": [
       "\u001b[36m  CSV.write(file, table; kwargs...) => file\u001b[39m\n",
       "\u001b[36m  table |> CSV.write(file; kwargs...) => file\u001b[39m\n",
       "\n",
       "  Write a Tables.jl interface input (https://github.com/JuliaData/Tables.jl)\n",
       "  to a csv file, given as an \u001b[36mIO\u001b[39m argument or \u001b[36mString\u001b[39m/FilePaths.jl type\n",
       "  representing the file name to write to.\n",
       "\n",
       "  Supported keyword arguments include:\n",
       "\n",
       "    •    \u001b[36mdelim::Union{Char, String}=','\u001b[39m: a character or string to print out\n",
       "        as the file's delimiter\n",
       "\n",
       "    •    \u001b[36mquotechar::Char='\"'\u001b[39m: ascii character to use for quoting text\n",
       "        fields that may contain delimiters or newlines\n",
       "\n",
       "    •    \u001b[36mopenquotechar::Char\u001b[39m: instead of \u001b[36mquotechar\u001b[39m, use \u001b[36mopenquotechar\u001b[39m and\n",
       "        \u001b[36mclosequotechar\u001b[39m to support different starting and ending quote\n",
       "        characters\n",
       "\n",
       "    •    \u001b[36mescapechar::Char='\"'\u001b[39m: ascii character used to escape quote\n",
       "        characters in a text field\n",
       "\n",
       "    •    \u001b[36mmissingstring::String=\"\"\u001b[39m: string to print for \u001b[36mmissing\u001b[39m values \n",
       "\n",
       "    •    \u001b[36mdateformat=Dates.default_format(T)\u001b[39m: the date format string to use\n",
       "        for printing out \u001b[36mDate\u001b[39m & \u001b[36mDateTime\u001b[39m columns\n",
       "\n",
       "    •    \u001b[36mappend=false\u001b[39m: whether to append writing to an existing file/IO, if\n",
       "        \u001b[36mtrue\u001b[39m, it will not write column names by default\n",
       "\n",
       "    •    \u001b[36mwriteheader=!append\u001b[39m: whether to write an initial row of delimited\n",
       "        column names, not written by default if appending\n",
       "\n",
       "    •    \u001b[36mheader\u001b[39m: pass a list of column names (Symbols or Strings) to use\n",
       "        instead of the column names of the input table\n",
       "\n",
       "    •    \u001b[36mnewline='\\n'\u001b[39m: character or string to use to separate rows (lines\n",
       "        in the csv file)\n",
       "\n",
       "    •    \u001b[36mquotestrings=false\u001b[39m: whether to force all strings to be quoted or\n",
       "        not\n",
       "\n",
       "    •    \u001b[36mdecimal='.'\u001b[39m: character to use as the decimal point when writing\n",
       "        floating point numbers"
      ]
     },
     "execution_count": 343,
     "metadata": {},
     "output_type": "execute_result"
    }
   ],
   "source": [
    "?CSV.write"
   ]
  },
  {
   "cell_type": "code",
   "execution_count": 344,
   "metadata": {},
   "outputs": [
    {
     "data": {
      "text/plain": [
       "8-element Array{Float64,1}:\n",
       " 0.9590643274853801  \n",
       " 0.9365079365079365  \n",
       " 0.9722222222222222  \n",
       " 0.9543650793650793  \n",
       " 0.9541980020732038  \n",
       " 0.9516129032258065  \n",
       " 0.944               \n",
       " 0.027777777777777776"
      ]
     },
     "execution_count": 344,
     "metadata": {},
     "output_type": "execute_result"
    }
   ],
   "source": [
    "allScoresArray"
   ]
  },
  {
   "cell_type": "markdown",
   "metadata": {},
   "source": [
    "##### Storing the all scores into a dataframe"
   ]
  },
  {
   "cell_type": "code",
   "execution_count": 345,
   "metadata": {},
   "outputs": [
    {
     "data": {
      "text/html": [
       "<table class=\"data-frame\"><thead><tr><th></th><th>accuracy</th><th>sensitivity</th><th>specificity</th><th>auc</th><th>gmean</th><th>precision</th><th>f1_score</th><th>fpr</th></tr><tr><th></th><th>Float64</th><th>Float64</th><th>Float64</th><th>Float64</th><th>Float64</th><th>Float64</th><th>Float64</th><th>Float64</th></tr></thead><tbody><p>1 rows × 8 columns</p><tr><th>1</th><td>0.959064</td><td>0.936508</td><td>0.972222</td><td>0.954365</td><td>0.954198</td><td>0.951613</td><td>0.944</td><td>0.0277778</td></tr></tbody></table>"
      ],
      "text/latex": [
       "\\begin{tabular}{r|cccccccc}\n",
       "\t& accuracy & sensitivity & specificity & auc & gmean & precision & f1\\_score & fpr\\\\\n",
       "\t\\hline\n",
       "\t& Float64 & Float64 & Float64 & Float64 & Float64 & Float64 & Float64 & Float64\\\\\n",
       "\t\\hline\n",
       "\t1 & 0.959064 & 0.936508 & 0.972222 & 0.954365 & 0.954198 & 0.951613 & 0.944 & 0.0277778 \\\\\n",
       "\\end{tabular}\n"
      ],
      "text/plain": [
       "1×8 DataFrame. Omitted printing of 2 columns\n",
       "│ Row │ accuracy │ sensitivity │ specificity │ auc      │ gmean    │ precision │\n",
       "│     │ \u001b[90mFloat64\u001b[39m  │ \u001b[90mFloat64\u001b[39m     │ \u001b[90mFloat64\u001b[39m     │ \u001b[90mFloat64\u001b[39m  │ \u001b[90mFloat64\u001b[39m  │ \u001b[90mFloat64\u001b[39m   │\n",
       "├─────┼──────────┼─────────────┼─────────────┼──────────┼──────────┼───────────┤\n",
       "│ 1   │ 0.959064 │ 0.936508    │ 0.972222    │ 0.954365 │ 0.954198 │ 0.951613  │"
      ]
     },
     "execution_count": 345,
     "metadata": {},
     "output_type": "execute_result"
    }
   ],
   "source": [
    "columnNames = [\"accuracy\", \"sensitivity\", \"specificity\", \"auc\", \"gmean\", \"precision\", \"f1_score\", \"fpr\"]\n",
    "resultDF = DataFrame(allScores, Symbol.(columnNames), )"
   ]
  },
  {
   "cell_type": "markdown",
   "metadata": {},
   "source": [
    "### Result of AdaBoost"
   ]
  },
  {
   "cell_type": "code",
   "execution_count": 346,
   "metadata": {
    "scrolled": true
   },
   "outputs": [
    {
     "data": {
      "text/plain": [
       "ROCNums{Int64}\n",
       "  p = 63\n",
       "  n = 108\n",
       "  tp = 60\n",
       "  tn = 105\n",
       "  fp = 3\n",
       "  fn = 3\n"
      ]
     },
     "execution_count": 346,
     "metadata": {},
     "output_type": "execute_result"
    }
   ],
   "source": [
    "using MLBase\n",
    "r_abc = roc(y_test, y_pred_abc)"
   ]
  },
  {
   "cell_type": "markdown",
   "metadata": {},
   "source": [
    "##### Calling the getAllScore function"
   ]
  },
  {
   "cell_type": "code",
   "execution_count": 347,
   "metadata": {},
   "outputs": [
    {
     "data": {
      "text/plain": [
       "1×8 LinearAlgebra.Transpose{Float64,Array{Float64,1}}:\n",
       " 0.964912  0.952381  0.972222  0.962302  …  0.952381  0.952381  0.0277778"
      ]
     },
     "execution_count": 347,
     "metadata": {},
     "output_type": "execute_result"
    }
   ],
   "source": [
    "allScoresTuples = getAllScore(r_abc.tp, r_abc.tn, r_abc.fp, r_abc.fn)\n",
    "allScoresArray = [i for i in allScoresTuples]\n",
    "allScores = transpose(allScoresArray)"
   ]
  },
  {
   "cell_type": "code",
   "execution_count": 348,
   "metadata": {},
   "outputs": [
    {
     "data": {
      "text/plain": [
       "8-element Array{Float64,1}:\n",
       " 0.9649122807017544  \n",
       " 0.9523809523809523  \n",
       " 0.9722222222222222  \n",
       " 0.9623015873015872  \n",
       " 0.9622504486493763  \n",
       " 0.9523809523809523  \n",
       " 0.9523809523809523  \n",
       " 0.027777777777777776"
      ]
     },
     "execution_count": 348,
     "metadata": {},
     "output_type": "execute_result"
    }
   ],
   "source": [
    "allScoresArray"
   ]
  },
  {
   "cell_type": "markdown",
   "metadata": {},
   "source": [
    "##### Storing the all scores into a dataframe"
   ]
  },
  {
   "cell_type": "code",
   "execution_count": 349,
   "metadata": {},
   "outputs": [
    {
     "data": {
      "text/html": [
       "<table class=\"data-frame\"><thead><tr><th></th><th>accuracy</th><th>sensitivity</th><th>specificity</th><th>auc</th><th>gmean</th><th>precision</th><th>f1_score</th><th>fpr</th></tr><tr><th></th><th>Float64</th><th>Float64</th><th>Float64</th><th>Float64</th><th>Float64</th><th>Float64</th><th>Float64</th><th>Float64</th></tr></thead><tbody><p>1 rows × 8 columns</p><tr><th>1</th><td>0.964912</td><td>0.952381</td><td>0.972222</td><td>0.962302</td><td>0.96225</td><td>0.952381</td><td>0.952381</td><td>0.0277778</td></tr></tbody></table>"
      ],
      "text/latex": [
       "\\begin{tabular}{r|cccccccc}\n",
       "\t& accuracy & sensitivity & specificity & auc & gmean & precision & f1\\_score & fpr\\\\\n",
       "\t\\hline\n",
       "\t& Float64 & Float64 & Float64 & Float64 & Float64 & Float64 & Float64 & Float64\\\\\n",
       "\t\\hline\n",
       "\t1 & 0.964912 & 0.952381 & 0.972222 & 0.962302 & 0.96225 & 0.952381 & 0.952381 & 0.0277778 \\\\\n",
       "\\end{tabular}\n"
      ],
      "text/plain": [
       "1×8 DataFrame. Omitted printing of 2 columns\n",
       "│ Row │ accuracy │ sensitivity │ specificity │ auc      │ gmean   │ precision │\n",
       "│     │ \u001b[90mFloat64\u001b[39m  │ \u001b[90mFloat64\u001b[39m     │ \u001b[90mFloat64\u001b[39m     │ \u001b[90mFloat64\u001b[39m  │ \u001b[90mFloat64\u001b[39m │ \u001b[90mFloat64\u001b[39m   │\n",
       "├─────┼──────────┼─────────────┼─────────────┼──────────┼─────────┼───────────┤\n",
       "│ 1   │ 0.964912 │ 0.952381    │ 0.972222    │ 0.962302 │ 0.96225 │ 0.952381  │"
      ]
     },
     "execution_count": 349,
     "metadata": {},
     "output_type": "execute_result"
    }
   ],
   "source": [
    "columnNames = [\"accuracy\", \"sensitivity\", \"specificity\", \"auc\", \"gmean\", \"precision\", \"f1_score\", \"fpr\"]\n",
    "resultDF = DataFrame(allScores, Symbol.(columnNames), )"
   ]
  },
  {
   "cell_type": "markdown",
   "metadata": {},
   "source": [
    "# Drawing a ROC curve with auc score"
   ]
  },
  {
   "cell_type": "code",
   "execution_count": 350,
   "metadata": {},
   "outputs": [
    {
     "data": {
      "image/png": "[encoded data removed]",
      "text/plain": [
       "Figure(PyObject <Figure size 640x480 with 1 Axes>)"
      ]
     },
     "metadata": {},
     "output_type": "display_data"
    }
   ],
   "source": [
    "fprArr = [0, fprate(r_rfc.tn,r_rfc.fp), 1]\n",
    "tprArr = [0, tprate(r_rfc.tp,r_rfc.fn), 1]\n",
    "auc_ = round(auc_score(r_rfc.tn,r_rfc.fp,r_rfc.fn,r_rfc.tp), digits=3)\n",
    "plt.plot(fprArr,tprArr,label= string( \"RandomForest\", \" ROC (auc =\", auc_, \")\" ) )\n",
    "\n",
    "fprArr = [0, fprate(r_abc.tn,r_abc.fp), 1]\n",
    "tprArr = [0, tprate(r_abc.tp,r_abc.fn), 1]\n",
    "auc_ = round(auc_score(r_abc.tn,r_abc.fp,r_abc.fn,r_abc.tp), digits=3)\n",
    "plt.plot(fprArr,tprArr,label= string( \"AdaBoost\", \" ROC (auc =\", auc_, \")\" ) )\n",
    "\n",
    "xlabel(\"1 - Specificity or (False Positive Rate)\")\n",
    "ylabel(\"Sensitivity(True Positive Rate)\")\n",
    "plt.plot([0, 1], [0, 1],\"r--\")\n",
    "plt.xlim([0.0, 1.05])\n",
    "plt.ylim([0.0, 1.05])\n",
    "PyPlot.title(\"Receiver Operating Characteristic\")\n",
    "grid(\"on\")\n",
    "legend()\n",
    "#plt.savefig(\"roc_curve.png\",bbox_inches=\"tight\", format=\"png\", dpi=1200)\n",
    "#plt.show()   # Display\n",
    "plt.grid(color=\"ghostwhite\")\n",
    "plt.savefig(\"new_roc.png\",bbox_inches=\"tight\", format=\"png\", dpi=1200, transparent=1)\n",
    "plt.show()   # Display"
   ]
  },
  {
   "cell_type": "code",
   "execution_count": 351,
   "metadata": {},
   "outputs": [
    {
     "name": "stdout",
     "output_type": "stream",
     "text": [
      "search: \u001b[0m\u001b[1mx\u001b[22m\u001b[0m\u001b[1ml\u001b[22m\u001b[0m\u001b[1ma\u001b[22m\u001b[0m\u001b[1mb\u001b[22m\u001b[0m\u001b[1me\u001b[22m\u001b[0m\u001b[1ml\u001b[22m\n",
      "\n"
     ]
    },
    {
     "data": {
      "text/plain": [
       "\n",
       "        Set the label for the x-axis.\n",
       "\n",
       "        Parameters\n",
       "        ----------\n",
       "        xlabel : str\n",
       "            The label text.\n",
       "\n",
       "        labelpad : scalar, optional, default: None\n",
       "            Spacing in points from the axes bounding box including ticks\n",
       "            and tick labels.\n",
       "\n",
       "        Other Parameters\n",
       "        ----------------\n",
       "        **kwargs : `.Text` properties\n",
       "            `.Text` properties control the appearance of the label.\n",
       "\n",
       "        See also\n",
       "        --------\n",
       "        text : for information on how override and the optional args work\n",
       "        "
      ]
     },
     "execution_count": 351,
     "metadata": {},
     "output_type": "execute_result"
    }
   ],
   "source": [
    "?xlabel"
   ]
  },
  {
   "cell_type": "code",
   "execution_count": 352,
   "metadata": {},
   "outputs": [
    {
     "data": {
      "image/png": "[encoded data removed]",
      "text/plain": [
       "Figure(PyObject <Figure size 640x480 with 1 Axes>)"
      ]
     },
     "metadata": {},
     "output_type": "display_data"
    }
   ],
   "source": [
    "fprArr = [0, fprate(r_rfc.tn,r_rfc.fp), 1]\n",
    "tprArr = [0, tprate(r_rfc.tp,r_rfc.fn), 1]\n",
    "auc_ = round(auc_score(r_rfc.tn,r_rfc.fp,r_rfc.fn,r_rfc.tp), digits=3)\n",
    "plt.plot(fprArr,tprArr,label= string( \"RandomForest\", \" ROC (auc =\", auc_, \")\" ) )\n",
    "\n",
    "xlabel(\"1 - Specificity or (False Positive Rate)\")\n",
    "ylabel(\"Sensitivity(True Positive Rate)\")\n",
    "plt.plot([0, 1], [0, 1],\"r--\")\n",
    "plt.xlim([0.0, 1.05])\n",
    "plt.ylim([0.0, 1.05])\n",
    "PyPlot.title(\"Receiver Operating Characteristic\")\n",
    "grid(\"on\")\n",
    "legend()\n",
    "#plt.savefig(\"roc_curve.png\",bbox_inches=\"tight\", format=\"png\", dpi=1200)\n",
    "#plt.show()   # Display\n",
    "plt.grid(color=\"ghostwhite\")\n",
    "plt.savefig(\"new_roc_rfc.png\",bbox_inches=\"tight\", format=\"png\", dpi=1200, transparent=1)\n",
    "plt.show()   # Display"
   ]
  },
  {
   "cell_type": "code",
   "execution_count": null,
   "metadata": {},
   "outputs": [],
   "source": []
  }
 ],
 "metadata": {
  "kernelspec": {
   "display_name": "Julia 1.1.0",
   "language": "julia",
   "name": "julia-1.1"
  },
  "language_info": {
   "file_extension": ".jl",
   "mimetype": "application/julia",
   "name": "julia",
   "version": "1.1.0"
  }
 },
 "nbformat": 4,
 "nbformat_minor": 2
}
