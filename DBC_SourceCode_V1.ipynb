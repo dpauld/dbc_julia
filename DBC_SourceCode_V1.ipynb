{
 "cells": [
  {
   "cell_type": "markdown",
   "metadata": {},
   "source": [
    "# Diagnosing Breast Cancer using Julia"
   ]
  },
  {
   "cell_type": "markdown",
   "metadata": {},
   "source": [
    "##### Loading necessary packages and reading the [dataset](https://www.kaggle.com/uciml/breast-cancer-wisconsin-data)."
   ]
  },
  {
   "cell_type": "code",
   "execution_count": 188,
   "metadata": {},
   "outputs": [],
   "source": [
    "using CSV\n",
    "using DataFrames\n",
    "df = CSV.read(\"wdbc.csv\");"
   ]
  },
  {
   "cell_type": "markdown",
   "metadata": {},
   "source": [
    "##### Setting Random Seed to produce same output everytime, it helps in debugging"
   ]
  },
  {
   "cell_type": "code",
   "execution_count": 189,
   "metadata": {},
   "outputs": [
    {
     "data": {
      "text/plain": [
       "MersenneTwister(UInt32[0x00000064], Random.DSFMT.DSFMT_state(Int32[-2036630343, 1072818225, 1299231502, 1073154435, 1563612565, 1073206618, 176198161, 1073683625, 381415896, 1073699088  …  163992627, 1073241259, 385818456, 1072878963, 399273729, 595433664, 390891112, 1704156657, 382, 0]), [0.0, 0.0, 0.0, 0.0, 0.0, 0.0, 0.0, 0.0, 0.0, 0.0  …  0.0, 0.0, 0.0, 0.0, 0.0, 0.0, 0.0, 0.0, 0.0, 0.0], UInt128[0x00000000000000000000000000000000, 0x00000000000000000000000000000000, 0x00000000000000000000000000000000, 0x00000000000000000000000000000000, 0x00000000000000000000000000000000, 0x00000000000000000000000000000000, 0x00000000000000000000000000000000, 0x00000000000000000000000000000000, 0x00000000000000000000000000000000, 0x00000000000000000000000000000000  …  0x00000000000000000000000000000000, 0x00000000000000000000000000000000, 0x00000000000000000000000000000000, 0x00000000000000000000000000000000, 0x00000000000000000000000000000000, 0x00000000000000000000000000000000, 0x00000000000000000000000000000000, 0x00000000000000000000000000000000, 0x00000000000000000000000000000000, 0x00000000000000000000000000000000], 1002, 0)"
      ]
     },
     "execution_count": 189,
     "metadata": {},
     "output_type": "execute_result"
    }
   ],
   "source": [
    "RANDOM_STATE = 100\n",
    "using Random\n",
    "Random.seed!(RANDOM_STATE)"
   ]
  },
  {
   "cell_type": "markdown",
   "metadata": {},
   "source": [
    "##### First 5 samples of the dataset"
   ]
  },
  {
   "cell_type": "code",
   "execution_count": 190,
   "metadata": {},
   "outputs": [
    {
     "data": {
      "text/html": [
       "<table class=\"data-frame\"><thead><tr><th></th><th>id</th><th>diagnosis</th><th>radius_mean</th><th>texture_mean</th><th>perimeter_mean</th><th>area_mean</th><th>smoothness_mean</th></tr><tr><th></th><th>Int64</th><th>String</th><th>Float64</th><th>Float64</th><th>Float64</th><th>Float64</th><th>Float64</th></tr></thead><tbody><p>5 rows × 32 columns (omitted printing of 25 columns)</p><tr><th>1</th><td>842302</td><td>M</td><td>17.99</td><td>10.38</td><td>122.8</td><td>1001.0</td><td>0.1184</td></tr><tr><th>2</th><td>842517</td><td>M</td><td>20.57</td><td>17.77</td><td>132.9</td><td>1326.0</td><td>0.08474</td></tr><tr><th>3</th><td>84300903</td><td>M</td><td>19.69</td><td>21.25</td><td>130.0</td><td>1203.0</td><td>0.1096</td></tr><tr><th>4</th><td>84348301</td><td>M</td><td>11.42</td><td>20.38</td><td>77.58</td><td>386.1</td><td>0.1425</td></tr><tr><th>5</th><td>84358402</td><td>M</td><td>20.29</td><td>14.34</td><td>135.1</td><td>1297.0</td><td>0.1003</td></tr></tbody></table>"
      ],
      "text/latex": [
       "\\begin{tabular}{r|cccccccc}\n",
       "\t& id & diagnosis & radius\\_mean & texture\\_mean & perimeter\\_mean & area\\_mean & smoothness\\_mean & \\\\\n",
       "\t\\hline\n",
       "\t& Int64 & String & Float64 & Float64 & Float64 & Float64 & Float64 & \\\\\n",
       "\t\\hline\n",
       "\t1 & 842302 & M & 17.99 & 10.38 & 122.8 & 1001.0 & 0.1184 & $\\dots$ \\\\\n",
       "\t2 & 842517 & M & 20.57 & 17.77 & 132.9 & 1326.0 & 0.08474 & $\\dots$ \\\\\n",
       "\t3 & 84300903 & M & 19.69 & 21.25 & 130.0 & 1203.0 & 0.1096 & $\\dots$ \\\\\n",
       "\t4 & 84348301 & M & 11.42 & 20.38 & 77.58 & 386.1 & 0.1425 & $\\dots$ \\\\\n",
       "\t5 & 84358402 & M & 20.29 & 14.34 & 135.1 & 1297.0 & 0.1003 & $\\dots$ \\\\\n",
       "\\end{tabular}\n"
      ],
      "text/plain": [
       "5×32 DataFrame. Omitted printing of 27 columns\n",
       "│ Row │ id       │ diagnosis │ radius_mean │ texture_mean │ perimeter_mean │\n",
       "│     │ \u001b[90mInt64\u001b[39m    │ \u001b[90mString\u001b[39m    │ \u001b[90mFloat64\u001b[39m     │ \u001b[90mFloat64\u001b[39m      │ \u001b[90mFloat64\u001b[39m        │\n",
       "├─────┼──────────┼───────────┼─────────────┼──────────────┼────────────────┤\n",
       "│ 1   │ 842302   │ M         │ 17.99       │ 10.38        │ 122.8          │\n",
       "│ 2   │ 842517   │ M         │ 20.57       │ 17.77        │ 132.9          │\n",
       "│ 3   │ 84300903 │ M         │ 19.69       │ 21.25        │ 130.0          │\n",
       "│ 4   │ 84348301 │ M         │ 11.42       │ 20.38        │ 77.58          │\n",
       "│ 5   │ 84358402 │ M         │ 20.29       │ 14.34        │ 135.1          │"
      ]
     },
     "execution_count": 190,
     "metadata": {},
     "output_type": "execute_result"
    }
   ],
   "source": [
    "first(df,5)"
   ]
  },
  {
   "cell_type": "markdown",
   "metadata": {},
   "source": [
    "#####  Printing the number of instances and number of columns"
   ]
  },
  {
   "cell_type": "code",
   "execution_count": 191,
   "metadata": {},
   "outputs": [
    {
     "name": "stdout",
     "output_type": "stream",
     "text": [
      "Number of Instances: 569\n",
      "Number of Columns: 32\n"
     ]
    }
   ],
   "source": [
    "# size function returns the number of row and columns of the dataset\n",
    "row, col = size(df)\n",
    "println(\"Number of Instances: \", row)\n",
    "println(\"Number of Columns: \", col)"
   ]
  },
  {
   "cell_type": "markdown",
   "metadata": {},
   "source": [
    "##### Headers / Column names of the dataset"
   ]
  },
  {
   "cell_type": "code",
   "execution_count": 192,
   "metadata": {},
   "outputs": [
    {
     "name": "stdout",
     "output_type": "stream",
     "text": [
      "Symbol[:id, :diagnosis, :radius_mean, :texture_mean, :perimeter_mean, :area_mean, :smoothness_mean, :compactness_mean, :concavity_mean, Symbol(\"concave points_mean\"), :symmetry_mean, :fractal_dimension_mean, :radius_se, :texture_se, :perimeter_se, :area_se, :smoothness_se, :compactness_se, :concavity_se, Symbol(\"concave points_se\"), :symmetry_se, :fractal_dimension_se, :radius_worst, :texture_worst, :perimeter_worst, :area_worst, :smoothness_worst, :compactness_worst, :concavity_worst, Symbol(\"concave points_worst\"), :symmetry_worst, :fractal_dimension_worst]\n"
     ]
    }
   ],
   "source": [
    "println(names(df))"
   ]
  },
  {
   "cell_type": "markdown",
   "metadata": {},
   "source": []
  },
  {
   "cell_type": "markdown",
   "metadata": {},
   "source": [
    "##### Description of dataset"
   ]
  },
  {
   "cell_type": "code",
   "execution_count": 193,
   "metadata": {},
   "outputs": [
    {
     "name": "stdout",
     "output_type": "stream",
     "text": [
      "32×8 DataFrame\n",
      "│ Row │ variable                │ mean       │ min       │ median   │ max       │ nunique │ nmissing │ eltype   │\n",
      "│     │ \u001b[90mSymbol\u001b[39m                  │ \u001b[90mUnion…\u001b[39m     │ \u001b[90mAny\u001b[39m       │ \u001b[90mUnion…\u001b[39m   │ \u001b[90mAny\u001b[39m       │ \u001b[90mUnion…\u001b[39m  │ \u001b[90mNothing\u001b[39m  │ \u001b[90mDataType\u001b[39m │\n",
      "├─────┼─────────────────────────┼────────────┼───────────┼──────────┼───────────┼─────────┼──────────┼──────────┤\n",
      "│ 1   │ id                      │ 3.03718e7  │ 8670      │ 906024.0 │ 911320502 │         │          │ Int64    │\n",
      "│ 2   │ diagnosis               │            │ B         │          │ M         │ 2       │          │ String   │\n",
      "│ 3   │ radius_mean             │ 14.1273    │ 6.981     │ 13.37    │ 28.11     │         │          │ Float64  │\n",
      "│ 4   │ texture_mean            │ 19.2896    │ 9.71      │ 18.84    │ 39.28     │         │          │ Float64  │\n",
      "│ 5   │ perimeter_mean          │ 91.969     │ 43.79     │ 86.24    │ 188.5     │         │          │ Float64  │\n",
      "│ 6   │ area_mean               │ 654.889    │ 143.5     │ 551.1    │ 2501.0    │         │          │ Float64  │\n",
      "│ 7   │ smoothness_mean         │ 0.0963603  │ 0.05263   │ 0.09587  │ 0.1634    │         │          │ Float64  │\n",
      "│ 8   │ compactness_mean        │ 0.104341   │ 0.01938   │ 0.09263  │ 0.3454    │         │          │ Float64  │\n",
      "│ 9   │ concavity_mean          │ 0.0887993  │ 0.0       │ 0.06154  │ 0.4268    │         │          │ Float64  │\n",
      "│ 10  │ concave points_mean     │ 0.0489191  │ 0.0       │ 0.0335   │ 0.2012    │         │          │ Float64  │\n",
      "│ 11  │ symmetry_mean           │ 0.181162   │ 0.106     │ 0.1792   │ 0.304     │         │          │ Float64  │\n",
      "│ 12  │ fractal_dimension_mean  │ 0.0627976  │ 0.04996   │ 0.06154  │ 0.09744   │         │          │ Float64  │\n",
      "│ 13  │ radius_se               │ 0.405172   │ 0.1115    │ 0.3242   │ 2.873     │         │          │ Float64  │\n",
      "│ 14  │ texture_se              │ 1.21685    │ 0.3602    │ 1.108    │ 4.885     │         │          │ Float64  │\n",
      "│ 15  │ perimeter_se            │ 2.86606    │ 0.757     │ 2.287    │ 21.98     │         │          │ Float64  │\n",
      "│ 16  │ area_se                 │ 40.3371    │ 6.802     │ 24.53    │ 542.2     │         │          │ Float64  │\n",
      "│ 17  │ smoothness_se           │ 0.00704098 │ 0.001713  │ 0.00638  │ 0.03113   │         │          │ Float64  │\n",
      "│ 18  │ compactness_se          │ 0.0254781  │ 0.002252  │ 0.02045  │ 0.1354    │         │          │ Float64  │\n",
      "│ 19  │ concavity_se            │ 0.0318937  │ 0.0       │ 0.02589  │ 0.396     │         │          │ Float64  │\n",
      "│ 20  │ concave points_se       │ 0.0117961  │ 0.0       │ 0.01093  │ 0.05279   │         │          │ Float64  │\n",
      "│ 21  │ symmetry_se             │ 0.0205423  │ 0.007882  │ 0.01873  │ 0.07895   │         │          │ Float64  │\n",
      "│ 22  │ fractal_dimension_se    │ 0.0037949  │ 0.0008948 │ 0.003187 │ 0.02984   │         │          │ Float64  │\n",
      "│ 23  │ radius_worst            │ 16.2692    │ 7.93      │ 14.97    │ 36.04     │         │          │ Float64  │\n",
      "│ 24  │ texture_worst           │ 25.6772    │ 12.02     │ 25.41    │ 49.54     │         │          │ Float64  │\n",
      "│ 25  │ perimeter_worst         │ 107.261    │ 50.41     │ 97.66    │ 251.2     │         │          │ Float64  │\n",
      "│ 26  │ area_worst              │ 880.583    │ 185.2     │ 686.5    │ 4254.0    │         │          │ Float64  │\n",
      "│ 27  │ smoothness_worst        │ 0.132369   │ 0.07117   │ 0.1313   │ 0.2226    │         │          │ Float64  │\n",
      "│ 28  │ compactness_worst       │ 0.254265   │ 0.02729   │ 0.2119   │ 1.058     │         │          │ Float64  │\n",
      "│ 29  │ concavity_worst         │ 0.272188   │ 0.0       │ 0.2267   │ 1.252     │         │          │ Float64  │\n",
      "│ 30  │ concave points_worst    │ 0.114606   │ 0.0       │ 0.09993  │ 0.291     │         │          │ Float64  │\n",
      "│ 31  │ symmetry_worst          │ 0.290076   │ 0.1565    │ 0.2822   │ 0.6638    │         │          │ Float64  │\n",
      "│ 32  │ fractal_dimension_worst │ 0.0839458  │ 0.05504   │ 0.08004  │ 0.2075    │         │          │ Float64  │\n"
     ]
    }
   ],
   "source": [
    "println(describe(df))"
   ]
  },
  {
   "cell_type": "markdown",
   "metadata": {},
   "source": [
    "##### Frequencey of each class"
   ]
  },
  {
   "cell_type": "code",
   "execution_count": 194,
   "metadata": {},
   "outputs": [
    {
     "data": {
      "text/plain": [
       "2-element Named Array{Int64,1}\n",
       "Dim1  │ \n",
       "──────┼────\n",
       "B     │ 357\n",
       "M     │ 212"
      ]
     },
     "execution_count": 194,
     "metadata": {},
     "output_type": "execute_result"
    }
   ],
   "source": [
    "using FreqTables\n",
    "frequency_digonosis = freqtable(df[:diagnosis])"
   ]
  },
  {
   "cell_type": "markdown",
   "metadata": {},
   "source": [
    "##### Histogram of the frequency of each class"
   ]
  },
  {
   "cell_type": "code",
   "execution_count": 195,
   "metadata": {},
   "outputs": [
    {
     "data": {
      "image/png": "[encoded data removed]",
      "text/plain": [
       "Figure(PyObject <Figure size 640x480 with 1 Axes>)"
      ]
     },
     "metadata": {},
     "output_type": "display_data"
    },
    {
     "data": {
      "text/plain": [
       "PyObject Text(24.000000000000007, 0.5, 'Frequency')"
      ]
     },
     "execution_count": 195,
     "metadata": {},
     "output_type": "execute_result"
    }
   ],
   "source": [
    "using PyPlot\n",
    "PyPlot.plt.hist(df[:diagnosis], 2) \n",
    "plt.title(\"Histogram of Diagnosis\")\n",
    "plt.xlabel(\"Malignant(M), Benign(B)\")\n",
    "plt.ylabel(\"Frequency\")"
   ]
  },
  {
   "cell_type": "markdown",
   "metadata": {},
   "source": [
    "## Data Preprocessing"
   ]
  },
  {
   "cell_type": "markdown",
   "metadata": {},
   "source": [
    "##### Converting the categorical feature \"diagnosis\" to integer by doing label encoding"
   ]
  },
  {
   "cell_type": "code",
   "execution_count": 196,
   "metadata": {},
   "outputs": [],
   "source": [
    "using MLLabelUtils\n",
    "y = convertlabel(LabelEnc.MarginBased,df[:diagnosis])\n",
    "y = classify.(y, LabelEnc.ZeroOne(Int,1))\n",
    "newdf = copy(df)\n",
    "deletecols!(newdf, :diagnosis)\n",
    "newdf[:diagnosis] = y;"
   ]
  },
  {
   "cell_type": "markdown",
   "metadata": {},
   "source": [
    "##### Dataset after encodning"
   ]
  },
  {
   "cell_type": "code",
   "execution_count": 197,
   "metadata": {},
   "outputs": [
    {
     "data": {
      "text/html": [
       "<table class=\"data-frame\"><thead><tr><th></th><th>id</th><th>radius_mean</th><th>texture_mean</th><th>perimeter_mean</th><th>area_mean</th><th>smoothness_mean</th></tr><tr><th></th><th>Int64</th><th>Float64</th><th>Float64</th><th>Float64</th><th>Float64</th><th>Float64</th></tr></thead><tbody><p>5 rows × 32 columns (omitted printing of 26 columns)</p><tr><th>1</th><td>842302</td><td>17.99</td><td>10.38</td><td>122.8</td><td>1001.0</td><td>0.1184</td></tr><tr><th>2</th><td>842517</td><td>20.57</td><td>17.77</td><td>132.9</td><td>1326.0</td><td>0.08474</td></tr><tr><th>3</th><td>84300903</td><td>19.69</td><td>21.25</td><td>130.0</td><td>1203.0</td><td>0.1096</td></tr><tr><th>4</th><td>84348301</td><td>11.42</td><td>20.38</td><td>77.58</td><td>386.1</td><td>0.1425</td></tr><tr><th>5</th><td>84358402</td><td>20.29</td><td>14.34</td><td>135.1</td><td>1297.0</td><td>0.1003</td></tr></tbody></table>"
      ],
      "text/latex": [
       "\\begin{tabular}{r|ccccccc}\n",
       "\t& id & radius\\_mean & texture\\_mean & perimeter\\_mean & area\\_mean & smoothness\\_mean & \\\\\n",
       "\t\\hline\n",
       "\t& Int64 & Float64 & Float64 & Float64 & Float64 & Float64 & \\\\\n",
       "\t\\hline\n",
       "\t1 & 842302 & 17.99 & 10.38 & 122.8 & 1001.0 & 0.1184 & $\\dots$ \\\\\n",
       "\t2 & 842517 & 20.57 & 17.77 & 132.9 & 1326.0 & 0.08474 & $\\dots$ \\\\\n",
       "\t3 & 84300903 & 19.69 & 21.25 & 130.0 & 1203.0 & 0.1096 & $\\dots$ \\\\\n",
       "\t4 & 84348301 & 11.42 & 20.38 & 77.58 & 386.1 & 0.1425 & $\\dots$ \\\\\n",
       "\t5 & 84358402 & 20.29 & 14.34 & 135.1 & 1297.0 & 0.1003 & $\\dots$ \\\\\n",
       "\\end{tabular}\n"
      ],
      "text/plain": [
       "5×32 DataFrame. Omitted printing of 27 columns\n",
       "│ Row │ id       │ radius_mean │ texture_mean │ perimeter_mean │ area_mean │\n",
       "│     │ \u001b[90mInt64\u001b[39m    │ \u001b[90mFloat64\u001b[39m     │ \u001b[90mFloat64\u001b[39m      │ \u001b[90mFloat64\u001b[39m        │ \u001b[90mFloat64\u001b[39m   │\n",
       "├─────┼──────────┼─────────────┼──────────────┼────────────────┼───────────┤\n",
       "│ 1   │ 842302   │ 17.99       │ 10.38        │ 122.8          │ 1001.0    │\n",
       "│ 2   │ 842517   │ 20.57       │ 17.77        │ 132.9          │ 1326.0    │\n",
       "│ 3   │ 84300903 │ 19.69       │ 21.25        │ 130.0          │ 1203.0    │\n",
       "│ 4   │ 84348301 │ 11.42       │ 20.38        │ 77.58          │ 386.1     │\n",
       "│ 5   │ 84358402 │ 20.29       │ 14.34        │ 135.1          │ 1297.0    │"
      ]
     },
     "execution_count": 197,
     "metadata": {},
     "output_type": "execute_result"
    }
   ],
   "source": [
    "first(newdf,5)"
   ]
  },
  {
   "cell_type": "markdown",
   "metadata": {},
   "source": [
    "##### Description of Dataset after encodning "
   ]
  },
  {
   "cell_type": "code",
   "execution_count": 198,
   "metadata": {},
   "outputs": [
    {
     "name": "stdout",
     "output_type": "stream",
     "text": [
      "32×8 DataFrame\n",
      "│ Row │ variable                │ mean       │ min       │ median   │ max       │ nunique │ nmissing │ eltype   │\n",
      "│     │ \u001b[90mSymbol\u001b[39m                  │ \u001b[90mFloat64\u001b[39m    │ \u001b[90mReal\u001b[39m      │ \u001b[90mFloat64\u001b[39m  │ \u001b[90mReal\u001b[39m      │ \u001b[90mNothing\u001b[39m │ \u001b[90mNothing\u001b[39m  │ \u001b[90mDataType\u001b[39m │\n",
      "├─────┼─────────────────────────┼────────────┼───────────┼──────────┼───────────┼─────────┼──────────┼──────────┤\n",
      "│ 1   │ id                      │ 3.03718e7  │ 8670      │ 906024.0 │ 911320502 │         │          │ Int64    │\n",
      "│ 2   │ radius_mean             │ 14.1273    │ 6.981     │ 13.37    │ 28.11     │         │          │ Float64  │\n",
      "│ 3   │ texture_mean            │ 19.2896    │ 9.71      │ 18.84    │ 39.28     │         │          │ Float64  │\n",
      "│ 4   │ perimeter_mean          │ 91.969     │ 43.79     │ 86.24    │ 188.5     │         │          │ Float64  │\n",
      "│ 5   │ area_mean               │ 654.889    │ 143.5     │ 551.1    │ 2501.0    │         │          │ Float64  │\n",
      "│ 6   │ smoothness_mean         │ 0.0963603  │ 0.05263   │ 0.09587  │ 0.1634    │         │          │ Float64  │\n",
      "│ 7   │ compactness_mean        │ 0.104341   │ 0.01938   │ 0.09263  │ 0.3454    │         │          │ Float64  │\n",
      "│ 8   │ concavity_mean          │ 0.0887993  │ 0.0       │ 0.06154  │ 0.4268    │         │          │ Float64  │\n",
      "│ 9   │ concave points_mean     │ 0.0489191  │ 0.0       │ 0.0335   │ 0.2012    │         │          │ Float64  │\n",
      "│ 10  │ symmetry_mean           │ 0.181162   │ 0.106     │ 0.1792   │ 0.304     │         │          │ Float64  │\n",
      "│ 11  │ fractal_dimension_mean  │ 0.0627976  │ 0.04996   │ 0.06154  │ 0.09744   │         │          │ Float64  │\n",
      "│ 12  │ radius_se               │ 0.405172   │ 0.1115    │ 0.3242   │ 2.873     │         │          │ Float64  │\n",
      "│ 13  │ texture_se              │ 1.21685    │ 0.3602    │ 1.108    │ 4.885     │         │          │ Float64  │\n",
      "│ 14  │ perimeter_se            │ 2.86606    │ 0.757     │ 2.287    │ 21.98     │         │          │ Float64  │\n",
      "│ 15  │ area_se                 │ 40.3371    │ 6.802     │ 24.53    │ 542.2     │         │          │ Float64  │\n",
      "│ 16  │ smoothness_se           │ 0.00704098 │ 0.001713  │ 0.00638  │ 0.03113   │         │          │ Float64  │\n",
      "│ 17  │ compactness_se          │ 0.0254781  │ 0.002252  │ 0.02045  │ 0.1354    │         │          │ Float64  │\n",
      "│ 18  │ concavity_se            │ 0.0318937  │ 0.0       │ 0.02589  │ 0.396     │         │          │ Float64  │\n",
      "│ 19  │ concave points_se       │ 0.0117961  │ 0.0       │ 0.01093  │ 0.05279   │         │          │ Float64  │\n",
      "│ 20  │ symmetry_se             │ 0.0205423  │ 0.007882  │ 0.01873  │ 0.07895   │         │          │ Float64  │\n",
      "│ 21  │ fractal_dimension_se    │ 0.0037949  │ 0.0008948 │ 0.003187 │ 0.02984   │         │          │ Float64  │\n",
      "│ 22  │ radius_worst            │ 16.2692    │ 7.93      │ 14.97    │ 36.04     │         │          │ Float64  │\n",
      "│ 23  │ texture_worst           │ 25.6772    │ 12.02     │ 25.41    │ 49.54     │         │          │ Float64  │\n",
      "│ 24  │ perimeter_worst         │ 107.261    │ 50.41     │ 97.66    │ 251.2     │         │          │ Float64  │\n",
      "│ 25  │ area_worst              │ 880.583    │ 185.2     │ 686.5    │ 4254.0    │         │          │ Float64  │\n",
      "│ 26  │ smoothness_worst        │ 0.132369   │ 0.07117   │ 0.1313   │ 0.2226    │         │          │ Float64  │\n",
      "│ 27  │ compactness_worst       │ 0.254265   │ 0.02729   │ 0.2119   │ 1.058     │         │          │ Float64  │\n",
      "│ 28  │ concavity_worst         │ 0.272188   │ 0.0       │ 0.2267   │ 1.252     │         │          │ Float64  │\n",
      "│ 29  │ concave points_worst    │ 0.114606   │ 0.0       │ 0.09993  │ 0.291     │         │          │ Float64  │\n",
      "│ 30  │ symmetry_worst          │ 0.290076   │ 0.1565    │ 0.2822   │ 0.6638    │         │          │ Float64  │\n",
      "│ 31  │ fractal_dimension_worst │ 0.0839458  │ 0.05504   │ 0.08004  │ 0.2075    │         │          │ Float64  │\n",
      "│ 32  │ diagnosis               │ 0.372583   │ 0         │ 0.0      │ 1         │         │          │ Int64    │\n"
     ]
    }
   ],
   "source": [
    "println(describe(newdf))"
   ]
  },
  {
   "cell_type": "markdown",
   "metadata": {},
   "source": [
    "# Spliting the dataset into train, test"
   ]
  },
  {
   "cell_type": "markdown",
   "metadata": {},
   "source": [
    "##### Shuffling the Dataset"
   ]
  },
  {
   "cell_type": "code",
   "execution_count": 199,
   "metadata": {},
   "outputs": [
    {
     "data": {
      "text/html": [
       "<table class=\"data-frame\"><thead><tr><th></th><th>id</th><th>radius_mean</th><th>texture_mean</th><th>perimeter_mean</th><th>area_mean</th><th>smoothness_mean</th></tr><tr><th></th><th>Int64</th><th>Float64</th><th>Float64</th><th>Float64</th><th>Float64</th><th>Float64</th></tr></thead><tbody><p>10 rows × 32 columns (omitted printing of 26 columns)</p><tr><th>1</th><td>88649001</td><td>19.55</td><td>28.77</td><td>133.6</td><td>1207.0</td><td>0.0926</td></tr><tr><th>2</th><td>8612080</td><td>12.0</td><td>15.65</td><td>76.95</td><td>443.3</td><td>0.09723</td></tr><tr><th>3</th><td>8810158</td><td>13.11</td><td>22.54</td><td>87.02</td><td>529.4</td><td>0.1002</td></tr><tr><th>4</th><td>889403</td><td>15.61</td><td>19.38</td><td>100.0</td><td>758.6</td><td>0.0784</td></tr><tr><th>5</th><td>894335</td><td>12.43</td><td>17.0</td><td>78.6</td><td>477.3</td><td>0.07557</td></tr><tr><th>6</th><td>871149</td><td>10.9</td><td>12.96</td><td>68.69</td><td>366.8</td><td>0.07515</td></tr><tr><th>7</th><td>86135501</td><td>14.48</td><td>21.46</td><td>94.25</td><td>648.2</td><td>0.09444</td></tr><tr><th>8</th><td>8810987</td><td>13.86</td><td>16.93</td><td>90.96</td><td>578.9</td><td>0.1026</td></tr><tr><th>9</th><td>864018</td><td>11.34</td><td>21.26</td><td>72.48</td><td>396.5</td><td>0.08759</td></tr><tr><th>10</th><td>88995002</td><td>20.73</td><td>31.12</td><td>135.7</td><td>1419.0</td><td>0.09469</td></tr></tbody></table>"
      ],
      "text/latex": [
       "\\begin{tabular}{r|ccccccc}\n",
       "\t& id & radius\\_mean & texture\\_mean & perimeter\\_mean & area\\_mean & smoothness\\_mean & \\\\\n",
       "\t\\hline\n",
       "\t& Int64 & Float64 & Float64 & Float64 & Float64 & Float64 & \\\\\n",
       "\t\\hline\n",
       "\t1 & 88649001 & 19.55 & 28.77 & 133.6 & 1207.0 & 0.0926 & $\\dots$ \\\\\n",
       "\t2 & 8612080 & 12.0 & 15.65 & 76.95 & 443.3 & 0.09723 & $\\dots$ \\\\\n",
       "\t3 & 8810158 & 13.11 & 22.54 & 87.02 & 529.4 & 0.1002 & $\\dots$ \\\\\n",
       "\t4 & 889403 & 15.61 & 19.38 & 100.0 & 758.6 & 0.0784 & $\\dots$ \\\\\n",
       "\t5 & 894335 & 12.43 & 17.0 & 78.6 & 477.3 & 0.07557 & $\\dots$ \\\\\n",
       "\t6 & 871149 & 10.9 & 12.96 & 68.69 & 366.8 & 0.07515 & $\\dots$ \\\\\n",
       "\t7 & 86135501 & 14.48 & 21.46 & 94.25 & 648.2 & 0.09444 & $\\dots$ \\\\\n",
       "\t8 & 8810987 & 13.86 & 16.93 & 90.96 & 578.9 & 0.1026 & $\\dots$ \\\\\n",
       "\t9 & 864018 & 11.34 & 21.26 & 72.48 & 396.5 & 0.08759 & $\\dots$ \\\\\n",
       "\t10 & 88995002 & 20.73 & 31.12 & 135.7 & 1419.0 & 0.09469 & $\\dots$ \\\\\n",
       "\\end{tabular}\n"
      ],
      "text/plain": [
       "10×32 DataFrame. Omitted printing of 27 columns\n",
       "│ Row │ id       │ radius_mean │ texture_mean │ perimeter_mean │ area_mean │\n",
       "│     │ \u001b[90mInt64\u001b[39m    │ \u001b[90mFloat64\u001b[39m     │ \u001b[90mFloat64\u001b[39m      │ \u001b[90mFloat64\u001b[39m        │ \u001b[90mFloat64\u001b[39m   │\n",
       "├─────┼──────────┼─────────────┼──────────────┼────────────────┼───────────┤\n",
       "│ 1   │ 88649001 │ 19.55       │ 28.77        │ 133.6          │ 1207.0    │\n",
       "│ 2   │ 8612080  │ 12.0        │ 15.65        │ 76.95          │ 443.3     │\n",
       "│ 3   │ 8810158  │ 13.11       │ 22.54        │ 87.02          │ 529.4     │\n",
       "│ 4   │ 889403   │ 15.61       │ 19.38        │ 100.0          │ 758.6     │\n",
       "│ 5   │ 894335   │ 12.43       │ 17.0         │ 78.6           │ 477.3     │\n",
       "│ 6   │ 871149   │ 10.9        │ 12.96        │ 68.69          │ 366.8     │\n",
       "│ 7   │ 86135501 │ 14.48       │ 21.46        │ 94.25          │ 648.2     │\n",
       "│ 8   │ 8810987  │ 13.86       │ 16.93        │ 90.96          │ 578.9     │\n",
       "│ 9   │ 864018   │ 11.34       │ 21.26        │ 72.48          │ 396.5     │\n",
       "│ 10  │ 88995002 │ 20.73       │ 31.12        │ 135.7          │ 1419.0    │"
      ]
     },
     "execution_count": 199,
     "metadata": {},
     "output_type": "execute_result"
    }
   ],
   "source": [
    "using MLDataUtils\n",
    "newdf_s = shuffleobs(newdf);\n",
    "first(newdf_s,10)"
   ]
  },
  {
   "cell_type": "markdown",
   "metadata": {},
   "source": [
    "##### Spliting into train and test"
   ]
  },
  {
   "cell_type": "code",
   "execution_count": 200,
   "metadata": {},
   "outputs": [],
   "source": [
    "train, test = splitobs(newdf_s, at = 0.70);"
   ]
  },
  {
   "cell_type": "markdown",
   "metadata": {},
   "source": [
    "##### Seperating the features and class label"
   ]
  },
  {
   "cell_type": "code",
   "execution_count": 201,
   "metadata": {},
   "outputs": [],
   "source": [
    "X_train = convert(Matrix, train[:,2:31]);\n",
    "y_train = convert(Matrix, train[:,32:32]);\n",
    "X_test = convert(Matrix, test[:,2:31]);\n",
    "y_test = convert(Matrix, test[:,32:32]);"
   ]
  },
  {
   "cell_type": "markdown",
   "metadata": {},
   "source": [
    "##### Converting (n,1) dimension to (n, ) as per the classifiers requirements"
   ]
  },
  {
   "cell_type": "code",
   "execution_count": 202,
   "metadata": {},
   "outputs": [],
   "source": [
    "y_train = vec(y_train);\n",
    "y_test = vec(y_test);"
   ]
  },
  {
   "cell_type": "markdown",
   "metadata": {},
   "source": [
    "# Applying algorithms to train models "
   ]
  },
  {
   "cell_type": "markdown",
   "metadata": {},
   "source": [
    "##### Loading necessary packages and  creating an object of Classifier"
   ]
  },
  {
   "cell_type": "code",
   "execution_count": 213,
   "metadata": {
    "scrolled": true
   },
   "outputs": [],
   "source": [
    "using DecisionTree\n",
    "using ScikitLearn: fit!, predict\n",
    "rfc = RandomForestClassifier(n_trees = 110, n_subfeatures = 20, max_depth = 7);"
   ]
  },
  {
   "cell_type": "markdown",
   "metadata": {},
   "source": [
    "##### Fitting the classifiers on training data samples"
   ]
  },
  {
   "cell_type": "code",
   "execution_count": 214,
   "metadata": {},
   "outputs": [],
   "source": [
    "fit!(rfc, X_train, y_train);"
   ]
  },
  {
   "cell_type": "markdown",
   "metadata": {},
   "source": [
    "##### predicting the test  data samples"
   ]
  },
  {
   "cell_type": "code",
   "execution_count": 215,
   "metadata": {},
   "outputs": [
    {
     "name": "stdout",
     "output_type": "stream",
     "text": [
      "A portion of prediction:\n"
     ]
    },
    {
     "data": {
      "text/plain": [
       "10-element Array{Int64,1}:\n",
       " 1\n",
       " 0\n",
       " 1\n",
       " 1\n",
       " 1\n",
       " 0\n",
       " 1\n",
       " 1\n",
       " 0\n",
       " 0"
      ]
     },
     "execution_count": 215,
     "metadata": {},
     "output_type": "execute_result"
    }
   ],
   "source": [
    "y_pred = predict(rfc, X_test);\n",
    "println(\"A portion of prediction:\")\n",
    "y_pred[1:10]"
   ]
  },
  {
   "cell_type": "markdown",
   "metadata": {},
   "source": [
    "# Performance and Results"
   ]
  },
  {
   "cell_type": "markdown",
   "metadata": {},
   "source": [
    "##### Computing a confusion matrix"
   ]
  },
  {
   "cell_type": "code",
   "execution_count": 216,
   "metadata": {},
   "outputs": [
    {
     "data": {
      "text/plain": [
       "2×2 Array{Int64,2}:\n",
       " 106   2\n",
       "   4  59"
      ]
     },
     "metadata": {},
     "output_type": "display_data"
    },
    {
     "data": {
      "text/plain": [
       "Classes:  [0, 1]\n",
       "Matrix:   \n",
       "Accuracy: 0.9649122807017544\n",
       "Kappa:    0.9241011984021305"
      ]
     },
     "execution_count": 216,
     "metadata": {},
     "output_type": "execute_result"
    }
   ],
   "source": [
    "cm  = confusion_matrix(y_test, y_pred)"
   ]
  },
  {
   "cell_type": "markdown",
   "metadata": {},
   "source": [
    "##### Defining functions for calculating different performance metrices"
   ]
  },
  {
   "cell_type": "code",
   "execution_count": 217,
   "metadata": {},
   "outputs": [
    {
     "data": {
      "text/plain": [
       "fprate (generic function with 1 method)"
      ]
     },
     "execution_count": 217,
     "metadata": {},
     "output_type": "execute_result"
    }
   ],
   "source": [
    "using PyCall\n",
    "math = pyimport(\"math\")\n",
    "\n",
    "function accuracy_(tn,fp,fn,tp)\n",
    "    return ((tp+tn)/(tp+fp+fn+tn))\n",
    "end\n",
    "\n",
    "#True Positive Rate or Recall\n",
    "function sensitivity(tp,fn)\n",
    "    return (tp / (tp + fn))\n",
    "end\n",
    "\n",
    "tprate = sensitivity\n",
    "recall = sensitivity\n",
    "\n",
    "#True Negative Rate\n",
    "function specificity(tn,fp)\n",
    "    return (tn / (fp + tn))\n",
    "end\n",
    "\n",
    "function mcc(tn,fp,fn,tp)\n",
    "    return (tp*tn-fp*fn)/math.sqrt((tp+fp)*(tp+fn)*(tn+fp)*(tn+fn))\n",
    "end\n",
    "\n",
    "function auc_score(tn,fp,fn,tp)\n",
    "    return (sensitivity(tp,fn) + specificity(tn,fp)) / 2\n",
    "end\n",
    "\n",
    "function gmean_score(tn,fp,fn,tp)\n",
    "    return math.sqrt(sensitivity(tp,fn) * specificity(tn,fp))\n",
    "end\n",
    "\n",
    "function precision(tp, fp)\n",
    "    return (tp / (tp + fp))\n",
    "end\n",
    "\n",
    "function f1score(tp, fp, fn)\n",
    "    return (2*tp/(2*tp + fp + fn))\n",
    "end\n",
    "\n",
    "function fprate(tn,fp)\n",
    "    return (fp / (fp + tn))\n",
    "end"
   ]
  },
  {
   "cell_type": "markdown",
   "metadata": {},
   "source": [
    "##### Definfing a function for producing all scores at once."
   ]
  },
  {
   "cell_type": "code",
   "execution_count": 218,
   "metadata": {},
   "outputs": [
    {
     "data": {
      "text/plain": [
       "getAllScore (generic function with 1 method)"
      ]
     },
     "execution_count": 218,
     "metadata": {},
     "output_type": "execute_result"
    }
   ],
   "source": [
    "function getAllScore(tp,tn,fp,fn)\n",
    "    acc = accuracy_(tn,fp,fn,tp)\n",
    "    sn = sensitivity(tp,fn)\n",
    "    sp = specificity(tn,fp)\n",
    "    auc = auc_score(tn,fp,fn,tp)\n",
    "    gmean = gmean_score(tn,fp,fn,tp)\n",
    "    preci = precision(tp, fp)\n",
    "    f1 = f1score(tp,fp,fn)\n",
    "    fpr = fprate(tn,fp)\n",
    "    return acc, sn, sp, auc, gmean, preci, f1, fpr\n",
    "end"
   ]
  },
  {
   "cell_type": "markdown",
   "metadata": {},
   "source": [
    "#### Loading MLBase to compute roc performance parameter "
   ]
  },
  {
   "cell_type": "code",
   "execution_count": 219,
   "metadata": {},
   "outputs": [
    {
     "data": {
      "text/plain": [
       "ROCNums{Int64}\n",
       "  p = 63\n",
       "  n = 108\n",
       "  tp = 59\n",
       "  tn = 106\n",
       "  fp = 2\n",
       "  fn = 4\n"
      ]
     },
     "execution_count": 219,
     "metadata": {},
     "output_type": "execute_result"
    }
   ],
   "source": [
    "using MLBase\n",
    "r = roc(vec(y_test), y_pred)"
   ]
  },
  {
   "cell_type": "markdown",
   "metadata": {},
   "source": [
    "##### Calling the getAllScore function"
   ]
  },
  {
   "cell_type": "code",
   "execution_count": 220,
   "metadata": {},
   "outputs": [
    {
     "data": {
      "text/plain": [
       "1×8 LinearAlgebra.Transpose{Float64,Array{Float64,1}}:\n",
       " 0.964912  0.936508  0.981481  0.958995  …  0.967213  0.951613  0.0185185"
      ]
     },
     "execution_count": 220,
     "metadata": {},
     "output_type": "execute_result"
    }
   ],
   "source": [
    "allScoresTuples = getAllScore(r.tp, r.tn, r.fp, r.fn)\n",
    "allScoresArray = [i for i in allScoresTuples]\n",
    "allScores = transpose(allScoresArray)"
   ]
  },
  {
   "cell_type": "markdown",
   "metadata": {},
   "source": [
    "##### Storing the all scores into a dataframe"
   ]
  },
  {
   "cell_type": "code",
   "execution_count": 221,
   "metadata": {},
   "outputs": [
    {
     "data": {
      "text/html": [
       "<table class=\"data-frame\"><thead><tr><th></th><th>accuracy</th><th>sensitivity</th><th>specificity</th><th>auc</th><th>gmean</th><th>precision</th><th>f1_score</th><th>fpr</th></tr><tr><th></th><th>Float64</th><th>Float64</th><th>Float64</th><th>Float64</th><th>Float64</th><th>Float64</th><th>Float64</th><th>Float64</th></tr></thead><tbody><p>1 rows × 8 columns</p><tr><th>1</th><td>0.964912</td><td>0.936508</td><td>0.981481</td><td>0.958995</td><td>0.958731</td><td>0.967213</td><td>0.951613</td><td>0.0185185</td></tr></tbody></table>"
      ],
      "text/latex": [
       "\\begin{tabular}{r|cccccccc}\n",
       "\t& accuracy & sensitivity & specificity & auc & gmean & precision & f1\\_score & fpr\\\\\n",
       "\t\\hline\n",
       "\t& Float64 & Float64 & Float64 & Float64 & Float64 & Float64 & Float64 & Float64\\\\\n",
       "\t\\hline\n",
       "\t1 & 0.964912 & 0.936508 & 0.981481 & 0.958995 & 0.958731 & 0.967213 & 0.951613 & 0.0185185 \\\\\n",
       "\\end{tabular}\n"
      ],
      "text/plain": [
       "1×8 DataFrame. Omitted printing of 2 columns\n",
       "│ Row │ accuracy │ sensitivity │ specificity │ auc      │ gmean    │ precision │\n",
       "│     │ \u001b[90mFloat64\u001b[39m  │ \u001b[90mFloat64\u001b[39m     │ \u001b[90mFloat64\u001b[39m     │ \u001b[90mFloat64\u001b[39m  │ \u001b[90mFloat64\u001b[39m  │ \u001b[90mFloat64\u001b[39m   │\n",
       "├─────┼──────────┼─────────────┼─────────────┼──────────┼──────────┼───────────┤\n",
       "│ 1   │ 0.964912 │ 0.936508    │ 0.981481    │ 0.958995 │ 0.958731 │ 0.967213  │"
      ]
     },
     "execution_count": 221,
     "metadata": {},
     "output_type": "execute_result"
    }
   ],
   "source": [
    "columnNames = [\"accuracy\", \"sensitivity\", \"specificity\", \"auc\", \"gmean\", \"precision\", \"f1_score\", \"fpr\"]\n",
    "resultDF = DataFrame(allScores, Symbol.(columnNames), )"
   ]
  },
  {
   "cell_type": "markdown",
   "metadata": {},
   "source": [
    "# Drawing a ROC curve with auc score"
   ]
  },
  {
   "cell_type": "code",
   "execution_count": 226,
   "metadata": {},
   "outputs": [
    {
     "data": {
      "image/png": "[encoded data removed]",
      "text/plain": [
       "Figure(PyObject <Figure size 640x480 with 1 Axes>)"
      ]
     },
     "metadata": {},
     "output_type": "display_data"
    }
   ],
   "source": [
    "fprArr = [0, fprate(r.tn,r.fp), 1]\n",
    "tprArr = [0, tprate(r.tp,r.fn), 1]\n",
    "auc_ = round(auc_score(r.tn,r.fp,r.fn,r.tp), digits=3)\n",
    "p = plot(fprArr,tprArr,label= string( \"RandomForest\", \" ROC (auc =\", auc_, \")\" ) )\n",
    "xlabel(\"1 - Specificity or (False Positive Rate)\")\n",
    "ylabel(\"Sensitivity(True Positive Rate)\")\n",
    "plt.plot([0, 1], [0, 1],\"r--\")\n",
    "plt.xlim([0.0, 1.05])\n",
    "plt.ylim([0.0, 1.05])\n",
    "PyPlot.title(\"Receiver Operating Characteristic\")\n",
    "grid(\"on\")\n",
    "legend()"
   ]
  },
  {
   "cell_type": "code",
   "execution_count": null,
   "metadata": {},
   "outputs": [],
   "source": []
  }
 ],
 "metadata": {
  "kernelspec": {
   "display_name": "Julia 1.1.0",
   "language": "julia",
   "name": "julia-1.1"
  },
  "language_info": {
   "file_extension": ".jl",
   "mimetype": "application/julia",
   "name": "julia",
   "version": "1.1.0"
  }
 },
 "nbformat": 4,
 "nbformat_minor": 2
}
